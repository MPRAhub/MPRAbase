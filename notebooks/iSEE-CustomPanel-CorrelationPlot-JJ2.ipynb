{
 "cells": [
  {
   "cell_type": "code",
   "execution_count": 363,
   "id": "65843e70-bedb-488e-b105-8a2950493e0b",
   "metadata": {
    "tags": []
   },
   "outputs": [],
   "source": [
    "# iSEE-CustonPanel-CorrelationPlot"
   ]
  },
  {
   "cell_type": "code",
   "execution_count": 1,
   "id": "c6c4a16b-6c9d-4781-84cc-d28f2ae43f15",
   "metadata": {
    "tags": []
   },
   "outputs": [
    {
     "name": "stderr",
     "output_type": "stream",
     "text": [
      "Loading required package: MatrixGenerics\n",
      "\n",
      "Loading required package: matrixStats\n",
      "\n",
      "\n",
      "Attaching package: ‘MatrixGenerics’\n",
      "\n",
      "\n",
      "The following objects are masked from ‘package:matrixStats’:\n",
      "\n",
      "    colAlls, colAnyNAs, colAnys, colAvgsPerRowSet, colCollapse,\n",
      "    colCounts, colCummaxs, colCummins, colCumprods, colCumsums,\n",
      "    colDiffs, colIQRDiffs, colIQRs, colLogSumExps, colMadDiffs,\n",
      "    colMads, colMaxs, colMeans2, colMedians, colMins, colOrderStats,\n",
      "    colProds, colQuantiles, colRanges, colRanks, colSdDiffs, colSds,\n",
      "    colSums2, colTabulates, colVarDiffs, colVars, colWeightedMads,\n",
      "    colWeightedMeans, colWeightedMedians, colWeightedSds,\n",
      "    colWeightedVars, rowAlls, rowAnyNAs, rowAnys, rowAvgsPerColSet,\n",
      "    rowCollapse, rowCounts, rowCummaxs, rowCummins, rowCumprods,\n",
      "    rowCumsums, rowDiffs, rowIQRDiffs, rowIQRs, rowLogSumExps,\n",
      "    rowMadDiffs, rowMads, rowMaxs, rowMeans2, rowMedians, rowMins,\n",
      "    rowOrderStats, rowProds, rowQuantiles, rowRanges, rowRanks,\n",
      "    rowSdDiffs, rowSds, rowSums2, rowTabulates, rowVarDiffs, rowVars,\n",
      "    rowWeightedMads, rowWeightedMeans, rowWeightedMedians,\n",
      "    rowWeightedSds, rowWeightedVars\n",
      "\n",
      "\n",
      "Loading required package: GenomicRanges\n",
      "\n",
      "Loading required package: stats4\n",
      "\n",
      "Loading required package: BiocGenerics\n",
      "\n",
      "\n",
      "Attaching package: ‘BiocGenerics’\n",
      "\n",
      "\n",
      "The following objects are masked from ‘package:stats’:\n",
      "\n",
      "    IQR, mad, sd, var, xtabs\n",
      "\n",
      "\n",
      "The following objects are masked from ‘package:base’:\n",
      "\n",
      "    anyDuplicated, aperm, append, as.data.frame, basename, cbind,\n",
      "    colnames, dirname, do.call, duplicated, eval, evalq, Filter, Find,\n",
      "    get, grep, grepl, intersect, is.unsorted, lapply, Map, mapply,\n",
      "    match, mget, order, paste, pmax, pmax.int, pmin, pmin.int,\n",
      "    Position, rank, rbind, Reduce, rownames, sapply, setdiff, sort,\n",
      "    table, tapply, union, unique, unsplit, which.max, which.min\n",
      "\n",
      "\n",
      "Loading required package: S4Vectors\n",
      "\n",
      "\n",
      "Attaching package: ‘S4Vectors’\n",
      "\n",
      "\n",
      "The following objects are masked from ‘package:base’:\n",
      "\n",
      "    expand.grid, I, unname\n",
      "\n",
      "\n",
      "Loading required package: IRanges\n",
      "\n",
      "Loading required package: GenomeInfoDb\n",
      "\n",
      "Loading required package: Biobase\n",
      "\n",
      "Welcome to Bioconductor\n",
      "\n",
      "    Vignettes contain introductory material; view with\n",
      "    'browseVignettes()'. To cite Bioconductor, see\n",
      "    'citation(\"Biobase\")', and for packages 'citation(\"pkgname\")'.\n",
      "\n",
      "\n",
      "\n",
      "Attaching package: ‘Biobase’\n",
      "\n",
      "\n",
      "The following object is masked from ‘package:MatrixGenerics’:\n",
      "\n",
      "    rowMedians\n",
      "\n",
      "\n",
      "The following objects are masked from ‘package:matrixStats’:\n",
      "\n",
      "    anyMissing, rowMedians\n",
      "\n",
      "\n",
      "Loading required package: SingleCellExperiment\n",
      "\n",
      "Loading required package: scuttle\n",
      "\n",
      "Loading required package: ggplot2\n",
      "\n"
     ]
    }
   ],
   "source": [
    "library(SummarizedExperiment)\n",
    "library(iSEE)\n",
    "library(scater)"
   ]
  },
  {
   "cell_type": "code",
   "execution_count": 2,
   "id": "ad510a41-c2b7-4050-af6c-fa5827f2bf22",
   "metadata": {
    "tags": []
   },
   "outputs": [
    {
     "data": {
      "text/plain": [
       "$pilot_HepG2\n",
       "class: RangedSummarizedExperiment \n",
       "dim: 9016 3 \n",
       "metadata(9): labs ENCODE_ID ... number_of_elements readme\n",
       "assays(1): ActivityScore\n",
       "rownames: NULL\n",
       "rowData names(4): names genome_build sequence genomic_note\n",
       "colnames(3): rep1 rep2 rep3\n",
       "colData names(5): REP ENCODE_ID sample_status replicate_status\n",
       "  cell_lines\n",
       "\n",
       "$pilot_K562\n",
       "class: RangedSummarizedExperiment \n",
       "dim: 7214 3 \n",
       "metadata(9): labs ENCODE_ID ... number_of_elements readme\n",
       "assays(1): ActivityScore\n",
       "rownames: NULL\n",
       "rowData names(4): names genome_build sequence genomic_note\n",
       "colnames(3): rep1 rep2 rep3\n",
       "colData names(5): REP ENCODE_ID sample_status replicate_status\n",
       "  cell_lines\n"
      ]
     },
     "metadata": {},
     "output_type": "display_data"
    }
   ],
   "source": [
    "# Import Data\n",
    "se <- readRDS(\"../data//pilot_MPRA_SE.rds\")\n",
    "se"
   ]
  },
  {
   "cell_type": "code",
   "execution_count": 3,
   "id": "96b5f1b9-ef91-4567-b58c-e4fc8d69b9e4",
   "metadata": {
    "tags": []
   },
   "outputs": [],
   "source": [
    "se <- readRDS(\"../data//pilot_MPRA_SE.rds\")\n",
    "hepg2_se <- se$pilot_HepG2\n",
    "colData(hepg2_se)$replicate_status <- row.names(colData(hepg2_se))\n",
    "assays(hepg2_se)$'log2-ActivityScore' <- log2(assays(hepg2_se)$ActivityScore)\n",
    "rownames(hepg2_se)=rowRanges(hepg2_se)$names"
   ]
  },
  {
   "cell_type": "code",
   "execution_count": 4,
   "id": "3218c250-7694-4f2b-bbe1-e2c38b86d293",
   "metadata": {
    "tags": []
   },
   "outputs": [],
   "source": [
    "cor_pannel <- SampleAssayPlot(YAxisSampleName='rep1',\n",
    "                XAxis='Sample name',\n",
    "                XAxisSampleName='rep2',\n",
    "                Assay='log2-ActivityScore',\n",
    "                ColorByDefaultColor = 'red' ,\n",
    "                ColorBySampleNameAssay = 'log2-ActivityScore'#,\n",
    "                # BrushData = list(\n",
    "                # xmin = 4, xmax = 5, ymin = 3, ymax = 5, \n",
    "                # brushId = \"SamplePlot1_Brush\", \n",
    "                # outputId = \"SamplePlot1\"\n",
    "                #             )\n",
    "\n",
    "                )\n",
    "#cor_pannel"
   ]
  },
  {
   "cell_type": "code",
   "execution_count": 5,
   "id": "6da5c0d5-a6e4-496a-b66f-391125cfbe1f",
   "metadata": {
    "tags": []
   },
   "outputs": [],
   "source": [
    "CUSTOM_SUMMARY <- function(se, ri, ci, assay=\"log2-ActivityScore\") {\n",
    "    if (is.null(ri)) {\n",
    "        ri <- rownames(se)\n",
    "        #ri <- rowRanges(se)$names\n",
    "    } else {\n",
    "        ri <- unique(unlist(ri))\n",
    "    }\n",
    "    if (is.null(ci)) {\n",
    "        ci <- colnames(se)\n",
    "    } else {\n",
    "        ci <- unique(unlist(ci))\n",
    "    }\n",
    "    \n",
    "    assayMatrix <- assay(se, assay)[ri, ci, drop=FALSE]\n",
    "    \n",
    "    data.frame(\n",
    "        Mean = rowMeans(assayMatrix),\n",
    "        Var = rowVars(assayMatrix),\n",
    "        Sum = rowSums(assayMatrix),\n",
    "        rep1 = assayMatrix[,1],\n",
    "        rep2 = assayMatrix[,2],\n",
    "        rep3 = assayMatrix[,3],\n",
    "        row.names = ri\n",
    "    )\n",
    "}\n"
   ]
  },
  {
   "cell_type": "code",
   "execution_count": 6,
   "id": "4482bb0c-0dc4-47a0-acb8-95f4565f1b5f",
   "metadata": {
    "tags": []
   },
   "outputs": [
    {
     "name": "stderr",
     "output_type": "stream",
     "text": [
      "in method for ‘.showSelectionDetails’ with signature ‘x=\"CustomTable\"’: no definition for class “CustomTable”\n",
      "\n"
     ]
    },
    {
     "data": {
      "text/html": [
       "'CustomTable'"
      ],
      "text/latex": [
       "'CustomTable'"
      ],
      "text/markdown": [
       "'CustomTable'"
      ],
      "text/plain": [
       "[1] \"CustomTable\"\n",
       "attr(,\"package\")\n",
       "[1] \".GlobalEnv\""
      ]
     },
     "metadata": {},
     "output_type": "display_data"
    }
   ],
   "source": [
    "TEST_SELECTION_DETAILS <- function(x) {\n",
    "    \"TEST_SELECTION_DETAILS\"\n",
    "    # if (!is.null(user.supplied.function)) {\n",
    "     #               user.supplied.function(slot(x, .TableSelected))\n",
    "      #                  }\n",
    "}\n",
    "\n",
    "\n",
    "GENERATOR <- createCustomTable(CUSTOM_SUMMARY,\n",
    "                               setMethod('.showSelectionDetails',  signature = c(x = \"CustomTable\"),TEST_SELECTION_DETAILS )\n",
    "                               \n",
    "                 # inside createCustomTable\n",
    "                 #   setMethod('.showSelectionDetails',  signature = c(x = \"className\"), \n",
    "                 # function(x) {\n",
    "                 #   if (!is.null(user.supplied.function)) {\n",
    "                 #   user.supplied.function(slot(x, .TableSelected))\n",
    "                 #       }\n",
    "                 #   })\n",
    " )\n",
    "\n",
    "\n",
    "\n",
    "\n",
    "\n",
    "\n",
    "\n",
    "custom.t <- GENERATOR(PanelWidth=8L,\n",
    "    RowSelectionSource=\"SampleAssayPlot1\",#\"SamplePlot1_Brush\",#\n",
    "    RowSelectionDynamicSource = TRUE         \n",
    ") \n",
    "class(custom.t)\n",
    "\n",
    "#.showSelectionDetails"
   ]
  },
  {
   "cell_type": "code",
   "execution_count": 7,
   "id": "f4b06640-6a85-4db3-bc95-d9b06b456b6e",
   "metadata": {
    "tags": []
   },
   "outputs": [],
   "source": [
    "###Distribution Plot\n",
    "dis_pannel <-  SampleAssayPlot()"
   ]
  },
  {
   "cell_type": "code",
   "execution_count": null,
   "id": "ca5a6d85-9435-4c85-bdb4-acc5e7a133bb",
   "metadata": {
    "tags": []
   },
   "outputs": [],
   "source": []
  },
  {
   "cell_type": "code",
   "execution_count": null,
   "id": "bac5bb60-a95a-4c49-b79d-df9949c18afe",
   "metadata": {
    "tags": []
   },
   "outputs": [],
   "source": []
  },
  {
   "cell_type": "code",
   "execution_count": null,
   "id": "c71afadf-e188-40f8-a714-fc73fbc1967f",
   "metadata": {
    "tags": []
   },
   "outputs": [],
   "source": []
  },
  {
   "cell_type": "code",
   "execution_count": 8,
   "id": "62d2d2f1-2634-497e-ac34-7a8deb010ac7",
   "metadata": {
    "tags": []
   },
   "outputs": [
    {
     "name": "stderr",
     "output_type": "stream",
     "text": [
      "The `name` provided ('') does not correspond to a known icon\n",
      "\n",
      "The `name` provided ('') does not correspond to a known icon\n",
      "\n",
      "The `name` provided ('') does not correspond to a known icon\n",
      "\n",
      "The `name` provided ('') does not correspond to a known icon\n",
      "\n",
      "The `name` provided ('') does not correspond to a known icon\n",
      "\n",
      "The `name` provided ('') does not correspond to a known icon\n",
      "\n",
      "The `name` provided ('') does not correspond to a known icon\n",
      "\n",
      "The `name` provided ('') does not correspond to a known icon\n",
      "\n",
      "The `name` provided ('') does not correspond to a known icon\n",
      "\n"
     ]
    }
   ],
   "source": [
    "app_list <- list(cor_pannel,  dis_pannel ,custom.t)\n",
    "#names(app_list) <- c(\"correlation plot\", \"Activaty Score table\")\n",
    "#app_list\n",
    "app <- iSEE(hepg2_se, initial= app_list, appTitle='MPRAbase: an open-source platform that enables access to MPRA')"
   ]
  },
  {
   "cell_type": "code",
   "execution_count": null,
   "id": "0ce85686-5ef3-4402-8dc4-de7942d4eb67",
   "metadata": {
    "tags": []
   },
   "outputs": [
    {
     "name": "stderr",
     "output_type": "stream",
     "text": [
      "Loading required package: shiny\n",
      "\n",
      "\n",
      "Listening on http://0.0.0.0:7519\n",
      "\n"
     ]
    }
   ],
   "source": [
    "shiny::runApp(app, port = 7519, host = \"0.0.0.0\")"
   ]
  },
  {
   "cell_type": "code",
   "execution_count": null,
   "id": "11e13597-982d-4ac3-83cc-103f9752cccc",
   "metadata": {
    "tags": []
   },
   "outputs": [],
   "source": []
  },
  {
   "cell_type": "code",
   "execution_count": null,
   "id": "37a561ae-b0f3-4b15-a029-1208bfe3607f",
   "metadata": {
    "tags": []
   },
   "outputs": [],
   "source": []
  },
  {
   "cell_type": "code",
   "execution_count": null,
   "id": "f62006fb-20c3-40d4-bb5a-2fd49c6b600e",
   "metadata": {},
   "outputs": [],
   "source": []
  }
 ],
 "metadata": {
  "kernelspec": {
   "display_name": "R",
   "language": "R",
   "name": "ir"
  },
  "language_info": {
   "codemirror_mode": "r",
   "file_extension": ".r",
   "mimetype": "text/x-r-source",
   "name": "R",
   "pygments_lexer": "r",
   "version": "4.2.3"
  }
 },
 "nbformat": 4,
 "nbformat_minor": 5
}

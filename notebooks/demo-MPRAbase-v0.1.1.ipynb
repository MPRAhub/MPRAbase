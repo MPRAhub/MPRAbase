{
 "cells": [
  {
   "cell_type": "code",
   "execution_count": 2,
   "id": "cae1d184-ea6f-4883-82e2-ebc58c1009bd",
   "metadata": {
    "tags": []
   },
   "outputs": [
    {
     "ename": "ERROR",
     "evalue": "Error in library(iSEEindex): there is no package called ‘iSEEindex’\n",
     "output_type": "error",
     "traceback": [
      "Error in library(iSEEindex): there is no package called ‘iSEEindex’\nTraceback:\n",
      "1. library(iSEEindex)"
     ]
    }
   ],
   "source": [
    "library(iSEEindex)\n",
    "library(synapser)\n",
    "library(BiocFileCache)"
   ]
  },
  {
   "cell_type": "code",
   "execution_count": 7,
   "id": "bec9e67b-9e0d-4824-b0d3-602d000a79e0",
   "metadata": {
    "tags": []
   },
   "outputs": [
    {
     "name": "stderr",
     "output_type": "stream",
     "text": [
      "The `name` provided ('') does not correspond to a known icon\n",
      "\n",
      "The `name` provided ('') does not correspond to a known icon\n",
      "\n",
      "The `name` provided ('') does not correspond to a known icon\n",
      "\n",
      "The `name` provided ('') does not correspond to a known icon\n",
      "\n",
      "The `name` provided ('') does not correspond to a known icon\n",
      "\n",
      "The `name` provided ('') does not correspond to a known icon\n",
      "\n",
      "The `name` provided ('') does not correspond to a known icon\n",
      "\n",
      "The `name` provided ('') does not correspond to a known icon\n",
      "\n",
      "The `name` provided ('') does not correspond to a known icon\n",
      "\n",
      "\n",
      "Listening on http://0.0.0.0:3838\n",
      "\n"
     ]
    }
   ],
   "source": [
    "library(\"iSEEindex\")\n",
    "library(\"BiocFileCache\")\n",
    "\n",
    "bfc <- BiocFileCache(cache = tempdir())\n",
    "\n",
    "dataset_fun <- function() {\n",
    "  x <- yaml::read_yaml(system.file(package = \"iSEEindex\", \"example.yaml\"))\n",
    "  x$datasets\n",
    "}\n",
    "\n",
    "initial_fun <- function() {\n",
    "  x <- yaml::read_yaml(system.file(package = \"iSEEindex\", \"example.yaml\"))\n",
    "  x$initial\n",
    "}\n",
    "\n",
    "app <- iSEEindex(bfc, dataset_fun, initial_fun)\n",
    "shiny::runApp(app, port = 3838, host = \"0.0.0.0\")"
   ]
  },
  {
   "cell_type": "code",
   "execution_count": 52,
   "id": "f5cab516-0116-40fd-a7c4-ccfb73e280c7",
   "metadata": {
    "tags": []
   },
   "outputs": [
    {
     "name": "stderr",
     "output_type": "stream",
     "text": [
      "The `name` provided ('') does not correspond to a known icon\n",
      "\n",
      "The `name` provided ('') does not correspond to a known icon\n",
      "\n",
      "The `name` provided ('') does not correspond to a known icon\n",
      "\n",
      "The `name` provided ('') does not correspond to a known icon\n",
      "\n",
      "The `name` provided ('') does not correspond to a known icon\n",
      "\n",
      "The `name` provided ('') does not correspond to a known icon\n",
      "\n",
      "The `name` provided ('') does not correspond to a known icon\n",
      "\n",
      "The `name` provided ('') does not correspond to a known icon\n",
      "\n",
      "The `name` provided ('') does not correspond to a known icon\n",
      "\n",
      "\n",
      "Listening on http://0.0.0.0:3838\n",
      "\n",
      "Warning message in .refineParameters(extra[[idx]], se):\n",
      "“no 'reducedDims' with non-zero dimensions for 'ReducedDimensionPlot'”\n",
      "Warning message in .coerce_type(v, f, max_levels = max_levels, df = df):\n",
      "“covariate has too many unique values, coercing to numeric”\n",
      "Warning message in .coerce_type(v, f, max_levels = max_levels, df = df):\n",
      "“covariate has too many unique values, coercing to numeric”\n",
      "Warning message in .coerce_type(v, f, max_levels = max_levels, df = df):\n",
      "“covariate has too many unique values, coercing to numeric”\n",
      "Warning message in .coerce_type(v, f, max_levels = max_levels, df = df):\n",
      "“covariate has too many unique values, coercing to numeric”\n"
     ]
    }
   ],
   "source": [
    "bfc <- BiocFileCache('../cache', ask=FALSE)\n",
    "dataset_fun <- function() {\n",
    "    x <- yaml::read_yaml(\"../../MPRAbase-Builder/data/MPRAbase-v0.1.2.yaml\")\n",
    "    x$datasets\n",
    "}\n",
    "\n",
    "initial_fun <- function() {\n",
    "    x <- yaml::read_yaml(\"../../MPRAbase-Builder/data/MPRAbase-v0.1.2.yaml\")\n",
    "    x$initial\n",
    "}\n",
    "\n",
    "app <- iSEEindex(bfc, dataset_fun, initial_fun)\n",
    "shiny::runApp(app, port = 3838, host = \"0.0.0.0\")"
   ]
  }
 ],
 "metadata": {
  "kernelspec": {
   "display_name": "R",
   "language": "R",
   "name": "ir"
  },
  "language_info": {
   "codemirror_mode": "r",
   "file_extension": ".r",
   "mimetype": "text/x-r-source",
   "name": "R",
   "pygments_lexer": "r",
   "version": "4.2.2"
  }
 },
 "nbformat": 4,
 "nbformat_minor": 5
}

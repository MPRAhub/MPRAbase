{
 "cells": [
  {
   "cell_type": "code",
   "execution_count": 15,
   "id": "3112a55e-b99b-4c62-878b-fb337957e40d",
   "metadata": {
    "tags": []
   },
   "outputs": [],
   "source": [
    "library(\"iSEEindex\")\n",
    "library(\"BiocFileCache\")"
   ]
  },
  {
   "cell_type": "code",
   "execution_count": 17,
   "id": "141811b0-bf93-4730-b6ff-626410c39fda",
   "metadata": {
    "tags": []
   },
   "outputs": [
    {
     "name": "stderr",
     "output_type": "stream",
     "text": [
      "The `name` provided ('') does not correspond to a known icon\n",
      "\n",
      "The `name` provided ('') does not correspond to a known icon\n",
      "\n",
      "The `name` provided ('') does not correspond to a known icon\n",
      "\n",
      "The `name` provided ('') does not correspond to a known icon\n",
      "\n",
      "The `name` provided ('') does not correspond to a known icon\n",
      "\n",
      "The `name` provided ('') does not correspond to a known icon\n",
      "\n",
      "The `name` provided ('') does not correspond to a known icon\n",
      "\n",
      "The `name` provided ('') does not correspond to a known icon\n",
      "\n",
      "The `name` provided ('') does not correspond to a known icon\n",
      "\n"
     ]
    }
   ],
   "source": [
    "\n",
    "bfc <- BiocFileCache(cache = tempdir())\n",
    "\n",
    "dataset_fun <- function() {\n",
    "    read.csv(system.file(package=\"iSEEindex\", \"datasets.csv\"))\n",
    "}\n",
    "\n",
    "initial_fun <- function() {\n",
    "    read.csv(system.file(package = \"iSEEindex\", \"initial.csv\"))\n",
    "}\n",
    "\n",
    "app <- iSEEindex(bfc, dataset_fun, initial_fun)"
   ]
  },
  {
   "cell_type": "code",
   "execution_count": null,
   "id": "378489dd-0d02-41a0-8c0b-1eeb55889c15",
   "metadata": {
    "tags": []
   },
   "outputs": [
    {
     "name": "stderr",
     "output_type": "stream",
     "text": [
      "\n",
      "Listening on http://0.0.0.0:3838\n",
      "\n"
     ]
    }
   ],
   "source": [
    "shiny::runApp(app, port = 3838, host = \"0.0.0.0\")"
   ]
  }
 ],
 "metadata": {
  "kernelspec": {
   "display_name": "R",
   "language": "R",
   "name": "ir"
  },
  "language_info": {
   "codemirror_mode": "r",
   "file_extension": ".r",
   "mimetype": "text/x-r-source",
   "name": "R",
   "pygments_lexer": "r",
   "version": "4.2.2"
  }
 },
 "nbformat": 4,
 "nbformat_minor": 5
}

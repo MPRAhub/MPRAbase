{
 "cells": [
  {
   "cell_type": "markdown",
   "id": "79f95260-7c12-4c94-af16-fcf8c41acb0c",
   "metadata": {
    "extensions": {
     "jupyter_dashboards": {
      "activeView": "grid_default",
      "views": {
       "grid_default": {
        "col": null,
        "height": 2,
        "hidden": true,
        "row": null,
        "width": 2
       }
      }
     }
    }
   },
   "source": [
    "# Demo iSEE custom panel tutorial\n",
    "https://isee.github.io/iSEE/articles/custom.html"
   ]
  },
  {
   "cell_type": "code",
   "execution_count": 1,
   "id": "6b02a8d3-ce99-4e70-989b-0d9176df5a22",
   "metadata": {
    "extensions": {
     "jupyter_dashboards": {
      "activeView": "grid_default",
      "views": {
       "grid_default": {
        "col": null,
        "height": 2,
        "hidden": true,
        "row": null,
        "width": 2
       }
      }
     }
    }
   },
   "outputs": [
    {
     "name": "stderr",
     "output_type": "stream",
     "text": [
      "Loading required package: SingleCellExperiment\n",
      "\n",
      "Loading required package: SummarizedExperiment\n",
      "\n",
      "Loading required package: MatrixGenerics\n",
      "\n",
      "Loading required package: matrixStats\n",
      "\n",
      "\n",
      "Attaching package: ‘MatrixGenerics’\n",
      "\n",
      "\n",
      "The following objects are masked from ‘package:matrixStats’:\n",
      "\n",
      "    colAlls, colAnyNAs, colAnys, colAvgsPerRowSet, colCollapse,\n",
      "    colCounts, colCummaxs, colCummins, colCumprods, colCumsums,\n",
      "    colDiffs, colIQRDiffs, colIQRs, colLogSumExps, colMadDiffs,\n",
      "    colMads, colMaxs, colMeans2, colMedians, colMins, colOrderStats,\n",
      "    colProds, colQuantiles, colRanges, colRanks, colSdDiffs, colSds,\n",
      "    colSums2, colTabulates, colVarDiffs, colVars, colWeightedMads,\n",
      "    colWeightedMeans, colWeightedMedians, colWeightedSds,\n",
      "    colWeightedVars, rowAlls, rowAnyNAs, rowAnys, rowAvgsPerColSet,\n",
      "    rowCollapse, rowCounts, rowCummaxs, rowCummins, rowCumprods,\n",
      "    rowCumsums, rowDiffs, rowIQRDiffs, rowIQRs, rowLogSumExps,\n",
      "    rowMadDiffs, rowMads, rowMaxs, rowMeans2, rowMedians, rowMins,\n",
      "    rowOrderStats, rowProds, rowQuantiles, rowRanges, rowRanks,\n",
      "    rowSdDiffs, rowSds, rowSums2, rowTabulates, rowVarDiffs, rowVars,\n",
      "    rowWeightedMads, rowWeightedMeans, rowWeightedMedians,\n",
      "    rowWeightedSds, rowWeightedVars\n",
      "\n",
      "\n",
      "Loading required package: GenomicRanges\n",
      "\n",
      "Loading required package: stats4\n",
      "\n",
      "Loading required package: BiocGenerics\n",
      "\n",
      "\n",
      "Attaching package: ‘BiocGenerics’\n",
      "\n",
      "\n",
      "The following objects are masked from ‘package:stats’:\n",
      "\n",
      "    IQR, mad, sd, var, xtabs\n",
      "\n",
      "\n",
      "The following objects are masked from ‘package:base’:\n",
      "\n",
      "    anyDuplicated, aperm, append, as.data.frame, basename, cbind,\n",
      "    colnames, dirname, do.call, duplicated, eval, evalq, Filter, Find,\n",
      "    get, grep, grepl, intersect, is.unsorted, lapply, Map, mapply,\n",
      "    match, mget, order, paste, pmax, pmax.int, pmin, pmin.int,\n",
      "    Position, rank, rbind, Reduce, rownames, sapply, setdiff, sort,\n",
      "    table, tapply, union, unique, unsplit, which.max, which.min\n",
      "\n",
      "\n",
      "Loading required package: S4Vectors\n",
      "\n",
      "\n",
      "Attaching package: ‘S4Vectors’\n",
      "\n",
      "\n",
      "The following objects are masked from ‘package:base’:\n",
      "\n",
      "    expand.grid, I, unname\n",
      "\n",
      "\n",
      "Loading required package: IRanges\n",
      "\n",
      "Loading required package: GenomeInfoDb\n",
      "\n",
      "Loading required package: Biobase\n",
      "\n",
      "Welcome to Bioconductor\n",
      "\n",
      "    Vignettes contain introductory material; view with\n",
      "    'browseVignettes()'. To cite Bioconductor, see\n",
      "    'citation(\"Biobase\")', and for packages 'citation(\"pkgname\")'.\n",
      "\n",
      "\n",
      "\n",
      "Attaching package: ‘Biobase’\n",
      "\n",
      "\n",
      "The following object is masked from ‘package:MatrixGenerics’:\n",
      "\n",
      "    rowMedians\n",
      "\n",
      "\n",
      "The following objects are masked from ‘package:matrixStats’:\n",
      "\n",
      "    anyMissing, rowMedians\n",
      "\n",
      "\n",
      "Loading required package: scuttle\n",
      "\n",
      "Loading required package: ggplot2\n",
      "\n"
     ]
    }
   ],
   "source": [
    "library(scater)\n",
    "library(iSEE)\n",
    "library(scater)\n",
    "library(scRNAseq)"
   ]
  },
  {
   "cell_type": "code",
   "execution_count": 2,
   "id": "1430a04b-654c-4444-847b-cd82f8c9eea7",
   "metadata": {
    "extensions": {
     "jupyter_dashboards": {
      "activeView": "grid_default",
      "views": {
       "grid_default": {
        "col": null,
        "height": 2,
        "hidden": true,
        "row": null,
        "width": 2
       }
      }
     }
    },
    "tags": []
   },
   "outputs": [],
   "source": [
    "CUSTOM_DIMRED <- function(se, rows, columns, ntop=500, scale=TRUE,\n",
    "    mode=c(\"PCA\", \"TSNE\", \"UMAP\"))\n",
    "{\n",
    "    if (is.null(columns)) {\n",
    "        return(\n",
    "            ggplot() + theme_void() + geom_text(\n",
    "                aes(x, y, label=label),\n",
    "                data.frame(x=0, y=0, label=\"No column data selected.\"),\n",
    "                size=5)\n",
    "            )\n",
    "    }\n",
    "\n",
    "    mode <- match.arg(mode)\n",
    "    if (mode==\"PCA\") {\n",
    "        calcFUN <- runPCA\n",
    "    } else if (mode==\"TSNE\") {\n",
    "        calcFUN <- runTSNE\n",
    "    } else if (mode==\"UMAP\") {\n",
    "        calcFUN <- runUMAP\n",
    "    }\n",
    "\n",
    "    kept <- se[, unique(unlist(columns))]\n",
    "    kept <- calcFUN(kept, ncomponents=2, ntop=ntop,\n",
    "                    scale=scale, subset_row=unique(unlist(rows)))\n",
    "    plotReducedDim(kept, mode)\n",
    "}\n",
    "\n",
    "GEN <- createCustomPlot(CUSTOM_DIMRED)"
   ]
  },
  {
   "cell_type": "code",
   "execution_count": 3,
   "id": "f85fc8d8-11bc-41d7-8d96-67a94a79c260",
   "metadata": {
    "extensions": {
     "jupyter_dashboards": {
      "activeView": "grid_default",
      "views": {
       "grid_default": {
        "col": null,
        "height": 2,
        "hidden": true,
        "row": null,
        "width": 2
       }
      }
     }
    },
    "tags": []
   },
   "outputs": [],
   "source": [
    "# NOTE: as mentioned before, you don't have to create 'BrushData' manually;\n",
    "# just open an app, make a brush and copy it from the panel settings.\n",
    "cdp <- ColumnDataPlot(\n",
    "    XAxis=\"Column data\", \n",
    "    XAxisColumnData=\"Primary.Type\", \n",
    "    PanelId=1L,\n",
    "    BrushData=list(\n",
    "        xmin = 10.1, xmax = 15.0, ymin = 5106720.6, ymax = 28600906.0, \n",
    "        coords_css = list(xmin = 271.0, xmax = 380.0, ymin = 143.0, ymax = 363.0), \n",
    "        coords_img = list(xmin = 352.3, xmax = 494.0, ymin = 185.9, ymax = 471.9), \n",
    "        img_css_ratio = list(x = 1.3, y = 1.2), \n",
    "        mapping = list(x = \"X\", y = \"Y\", group = \"GroupBy\"),\n",
    "        domain = list(\n",
    "            left = 0.4, right = 17.6, bottom = -569772L, top = 41149532L, \n",
    "            discrete_limits = list(\n",
    "                x = list(\"L4 Arf5\", \"L4 Ctxn3\", \"L4 Scnn1a\", \n",
    "                    \"L5 Ucma\", \"L5a Batf3\", \"L5a Hsd11b1\", \"L5a Pde1c\", \n",
    "                    \"L5a Tcerg1l\", \"L5b Cdh13\", \"L5b Chrna6\", \"L5b Tph2\", \n",
    "                    \"L6a Car12\", \"L6a Mgp\", \"L6a Sla\", \"L6a Syt17\", \n",
    "                    \"Pvalb Tacr3\", \"Sst Myh8\")\n",
    "            )\n",
    "        ), \n",
    "        range = list(\n",
    "            left = 68.986301369863, right = 566.922374429224, \n",
    "            bottom = 541.013698630137, top = 33.1552511415525\n",
    "        ), \n",
    "        log = list(x = NULL, y = NULL), \n",
    "        direction = \"xy\", \n",
    "        brushId = \"ColumnDataPlot1_Brush\", \n",
    "        outputId = \"ColumnDataPlot1\"\n",
    "    )\n",
    ")\n",
    "\n",
    "custom.p <- GEN(mode=\"TSNE\", ntop=1000, \n",
    "    ColumnSelectionSource=\"ColumnDataPlot1\")\n"
   ]
  },
  {
   "cell_type": "code",
   "execution_count": 4,
   "id": "07c02be4-9a4a-4d17-8b6e-445deff436bf",
   "metadata": {
    "tags": []
   },
   "outputs": [
    {
     "name": "stderr",
     "output_type": "stream",
     "text": [
      "snapshotDate(): 2022-10-31\n",
      "\n",
      "see ?scRNAseq and browseVignettes('scRNAseq') for documentation\n",
      "\n",
      "loading from cache\n",
      "\n",
      "see ?scRNAseq and browseVignettes('scRNAseq') for documentation\n",
      "\n",
      "loading from cache\n",
      "\n",
      "see ?scRNAseq and browseVignettes('scRNAseq') for documentation\n",
      "\n",
      "loading from cache\n",
      "\n"
     ]
    }
   ],
   "source": [
    "sce <- ReprocessedAllenData(\"tophat_counts\")\n",
    "sce <- logNormCounts(sce, exprs_values=\"tophat_counts\")"
   ]
  },
  {
   "cell_type": "code",
   "execution_count": null,
   "id": "4a403838-138d-41a2-a164-06b3caced8b5",
   "metadata": {
    "tags": []
   },
   "outputs": [
    {
     "name": "stderr",
     "output_type": "stream",
     "text": [
      "The `name` provided ('') does not correspond to a known icon\n",
      "\n",
      "The `name` provided ('') does not correspond to a known icon\n",
      "\n",
      "The `name` provided ('') does not correspond to a known icon\n",
      "\n",
      "The `name` provided ('') does not correspond to a known icon\n",
      "\n",
      "The `name` provided ('') does not correspond to a known icon\n",
      "\n",
      "The `name` provided ('') does not correspond to a known icon\n",
      "\n",
      "The `name` provided ('') does not correspond to a known icon\n",
      "\n",
      "The `name` provided ('') does not correspond to a known icon\n",
      "\n",
      "The `name` provided ('') does not correspond to a known icon\n",
      "\n",
      "Loading required package: shiny\n",
      "\n",
      "\n",
      "Listening on http://0.0.0.0:3838\n",
      "\n",
      "Warning message:\n",
      "\"\u001b[1m\u001b[22mGroups with fewer than two data points have been dropped.\"\n",
      "Warning message:\n",
      "\"\u001b[1m\u001b[22mGroups with fewer than two data points have been dropped.\"\n",
      "Warning message:\n",
      "\"\u001b[1m\u001b[22mGroups with fewer than two data points have been dropped.\"\n",
      "Warning message:\n",
      "\"\u001b[1m\u001b[22mGroups with fewer than two data points have been dropped.\"\n",
      "Warning message:\n",
      "\"Error in <Anonymous>: unable to find an inherited method for function '.multiSelectionResponsive' for signature '\"CustomPlot\"'\"\n",
      "Warning message:\n",
      "\"\u001b[1m\u001b[22mGroups with fewer than two data points have been dropped.\"\n",
      "Warning message:\n",
      "\"\u001b[1m\u001b[22mGroups with fewer than two data points have been dropped.\"\n",
      "Warning message:\n",
      "\"\u001b[1m\u001b[22mGroups with fewer than two data points have been dropped.\"\n",
      "Warning message:\n",
      "\"\u001b[1m\u001b[22mGroups with fewer than two data points have been dropped.\"\n",
      "Warning message:\n",
      "\"\u001b[1m\u001b[22mGroups with fewer than two data points have been dropped.\"\n",
      "Warning message:\n",
      "\"\u001b[1m\u001b[22mGroups with fewer than two data points have been dropped.\"\n",
      "Warning message:\n",
      "\"Error in <Anonymous>: unable to find an inherited method for function '.multiSelectionResponsive' for signature '\"CustomPlot\"'\"\n",
      "Warning message:\n",
      "\"\u001b[1m\u001b[22mGroups with fewer than two data points have been dropped.\"\n",
      "Warning message:\n",
      "\"\u001b[1m\u001b[22mGroups with fewer than two data points have been dropped.\"\n",
      "Warning message:\n",
      "\"\u001b[1m\u001b[22mGroups with fewer than two data points have been dropped.\"\n",
      "Warning message:\n",
      "\"\u001b[1m\u001b[22mGroups with fewer than two data points have been dropped.\"\n",
      "Warning message:\n",
      "\"\u001b[1m\u001b[22mGroups with fewer than two data points have been dropped.\"\n",
      "Warning message:\n",
      "\"\u001b[1m\u001b[22mGroups with fewer than two data points have been dropped.\"\n"
     ]
    }
   ],
   "source": [
    "app <- iSEE(sce, initial=list(cdp, custom.p)) \n",
    "shiny::runApp(app, port = 3838, host = \"0.0.0.0\")"
   ]
  }
 ],
 "metadata": {
  "extensions": {
   "jupyter_dashboards": {
    "activeView": "grid_default",
    "version": 1,
    "views": {
     "grid_default": {
      "cellMargin": 2,
      "defaultCellHeight": 60,
      "maxColumns": 12,
      "name": "grid",
      "type": "grid"
     }
    }
   }
  },
  "kernelspec": {
   "display_name": "R",
   "language": "R",
   "name": "ir"
  },
  "language_info": {
   "codemirror_mode": "r",
   "file_extension": ".r",
   "mimetype": "text/x-r-source",
   "name": "R",
   "pygments_lexer": "r",
   "version": "4.2.3"
  }
 },
 "nbformat": 4,
 "nbformat_minor": 5
}

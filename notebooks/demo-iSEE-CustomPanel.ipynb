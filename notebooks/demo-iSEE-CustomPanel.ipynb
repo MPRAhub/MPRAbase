{
 "cells": [
  {
   "cell_type": "markdown",
   "id": "79f95260-7c12-4c94-af16-fcf8c41acb0c",
   "metadata": {},
   "source": [
    "# Demo iSEE custom panel tutorial\n",
    "https://isee.github.io/iSEE/articles/custom.html"
   ]
  },
  {
   "cell_type": "code",
   "execution_count": 1,
   "id": "93f68ecc-953c-4ce5-9f59-ea2ff6630096",
   "metadata": {
    "tags": []
   },
   "outputs": [
    {
     "name": "stderr",
     "output_type": "stream",
     "text": [
      "Loading required package: SingleCellExperiment\n",
      "\n",
      "Loading required package: SummarizedExperiment\n",
      "\n",
      "Loading required package: MatrixGenerics\n",
      "\n",
      "Loading required package: matrixStats\n",
      "\n",
      "\n",
      "Attaching package: ‘MatrixGenerics’\n",
      "\n",
      "\n",
      "The following objects are masked from ‘package:matrixStats’:\n",
      "\n",
      "    colAlls, colAnyNAs, colAnys, colAvgsPerRowSet, colCollapse,\n",
      "    colCounts, colCummaxs, colCummins, colCumprods, colCumsums,\n",
      "    colDiffs, colIQRDiffs, colIQRs, colLogSumExps, colMadDiffs,\n",
      "    colMads, colMaxs, colMeans2, colMedians, colMins, colOrderStats,\n",
      "    colProds, colQuantiles, colRanges, colRanks, colSdDiffs, colSds,\n",
      "    colSums2, colTabulates, colVarDiffs, colVars, colWeightedMads,\n",
      "    colWeightedMeans, colWeightedMedians, colWeightedSds,\n",
      "    colWeightedVars, rowAlls, rowAnyNAs, rowAnys, rowAvgsPerColSet,\n",
      "    rowCollapse, rowCounts, rowCummaxs, rowCummins, rowCumprods,\n",
      "    rowCumsums, rowDiffs, rowIQRDiffs, rowIQRs, rowLogSumExps,\n",
      "    rowMadDiffs, rowMads, rowMaxs, rowMeans2, rowMedians, rowMins,\n",
      "    rowOrderStats, rowProds, rowQuantiles, rowRanges, rowRanks,\n",
      "    rowSdDiffs, rowSds, rowSums2, rowTabulates, rowVarDiffs, rowVars,\n",
      "    rowWeightedMads, rowWeightedMeans, rowWeightedMedians,\n",
      "    rowWeightedSds, rowWeightedVars\n",
      "\n",
      "\n",
      "Loading required package: GenomicRanges\n",
      "\n",
      "Loading required package: stats4\n",
      "\n",
      "Loading required package: BiocGenerics\n",
      "\n",
      "\n",
      "Attaching package: ‘BiocGenerics’\n",
      "\n",
      "\n",
      "The following objects are masked from ‘package:stats’:\n",
      "\n",
      "    IQR, mad, sd, var, xtabs\n",
      "\n",
      "\n",
      "The following objects are masked from ‘package:base’:\n",
      "\n",
      "    anyDuplicated, aperm, append, as.data.frame, basename, cbind,\n",
      "    colnames, dirname, do.call, duplicated, eval, evalq, Filter, Find,\n",
      "    get, grep, grepl, intersect, is.unsorted, lapply, Map, mapply,\n",
      "    match, mget, order, paste, pmax, pmax.int, pmin, pmin.int,\n",
      "    Position, rank, rbind, Reduce, rownames, sapply, setdiff, sort,\n",
      "    table, tapply, union, unique, unsplit, which.max, which.min\n",
      "\n",
      "\n",
      "Loading required package: S4Vectors\n",
      "\n",
      "\n",
      "Attaching package: ‘S4Vectors’\n",
      "\n",
      "\n",
      "The following objects are masked from ‘package:base’:\n",
      "\n",
      "    expand.grid, I, unname\n",
      "\n",
      "\n",
      "Loading required package: IRanges\n",
      "\n",
      "Loading required package: GenomeInfoDb\n",
      "\n",
      "Loading required package: Biobase\n",
      "\n",
      "Welcome to Bioconductor\n",
      "\n",
      "    Vignettes contain introductory material; view with\n",
      "    'browseVignettes()'. To cite Bioconductor, see\n",
      "    'citation(\"Biobase\")', and for packages 'citation(\"pkgname\")'.\n",
      "\n",
      "\n",
      "\n",
      "Attaching package: ‘Biobase’\n",
      "\n",
      "\n",
      "The following object is masked from ‘package:MatrixGenerics’:\n",
      "\n",
      "    rowMedians\n",
      "\n",
      "\n",
      "The following objects are masked from ‘package:matrixStats’:\n",
      "\n",
      "    anyMissing, rowMedians\n",
      "\n",
      "\n",
      "Loading required package: scuttle\n",
      "\n",
      "Loading required package: ggplot2\n",
      "\n"
     ]
    }
   ],
   "source": [
    "library(scater)\n",
    "library(iSEE)\n",
    "\n",
    "CUSTOM_DIMRED <- function(se, rows, columns, ntop=500, scale=TRUE,\n",
    "    mode=c(\"PCA\", \"TSNE\", \"UMAP\"))\n",
    "{\n",
    "    print(columns)\n",
    "    if (is.null(columns)) {\n",
    "        return(\n",
    "            ggplot() + theme_void() + geom_text(\n",
    "                aes(x, y, label=label),\n",
    "                data.frame(x=0, y=0, label=\"No column data selected.\"),\n",
    "                size=5)\n",
    "            )\n",
    "    }\n",
    "\n",
    "    mode <- match.arg(mode)\n",
    "    if (mode==\"PCA\") {\n",
    "        calcFUN <- runPCA\n",
    "    } else if (mode==\"TSNE\") {\n",
    "        calcFUN <- runTSNE\n",
    "    } else if (mode==\"UMAP\") {\n",
    "        calcFUN <- runUMAP\n",
    "    }\n",
    "\n",
    "    set.seed(1000)\n",
    "    kept <- se[, unique(unlist(columns))]\n",
    "    kept <- calcFUN(kept, ncomponents=2, ntop=ntop,\n",
    "        scale=scale, subset_row=unique(unlist(rows)))\n",
    "    plotReducedDim(kept, mode)\n",
    "}\n"
   ]
  },
  {
   "cell_type": "code",
   "execution_count": 2,
   "id": "56c70d46-9d5b-4488-85cf-2ae7dd4aa811",
   "metadata": {
    "tags": []
   },
   "outputs": [
    {
     "data": {
      "text/html": [
       "'CustomPlot'"
      ],
      "text/latex": [
       "'CustomPlot'"
      ],
      "text/markdown": [
       "'CustomPlot'"
      ],
      "text/plain": [
       "[1] \"CustomPlot\"\n",
       "attr(,\"package\")\n",
       "[1] \".GlobalEnv\""
      ]
     },
     "metadata": {},
     "output_type": "display_data"
    }
   ],
   "source": [
    "GENERATOR <- createCustomPlot(CUSTOM_DIMRED)\n",
    "custom_panel <- GENERATOR()\n",
    "class(custom_panel)\n",
    "#> [1] \"CustomPlot\"\n",
    "#> attr(,\"package\")\n",
    "#> [1] \".GlobalEnv\""
   ]
  },
  {
   "cell_type": "code",
   "execution_count": 3,
   "id": "d08f15fa-9c67-428f-86af-d119887b921e",
   "metadata": {
    "tags": []
   },
   "outputs": [],
   "source": [
    "# NOTE: as mentioned before, you don't have to create 'BrushData' manually;\n",
    "# just open an app, make a brush and copy it from the panel settings.\n",
    "cdp <- ColumnDataPlot(\n",
    "    XAxis=\"Column data\", \n",
    "    XAxisColumnData=\"Primary.Type\", \n",
    "    PanelId=1L,\n",
    "    BrushData=list(\n",
    "        xmin = 10.1, xmax = 15.0, ymin = 5106720.6, ymax = 28600906.0, \n",
    "        coords_css = list(xmin = 271.0, xmax = 380.0, ymin = 143.0, ymax = 363.0), \n",
    "        coords_img = list(xmin = 352.3, xmax = 494.0, ymin = 185.9, ymax = 471.9), \n",
    "        img_css_ratio = list(x = 1.3, y = 1.2), \n",
    "        mapping = list(x = \"X\", y = \"Y\", group = \"GroupBy\"),\n",
    "        domain = list(\n",
    "            left = 0.4, right = 17.6, bottom = -569772L, top = 41149532L, \n",
    "            discrete_limits = list(\n",
    "                x = list(\"L4 Arf5\", \"L4 Ctxn3\", \"L4 Scnn1a\", \n",
    "                    \"L5 Ucma\", \"L5a Batf3\", \"L5a Hsd11b1\", \"L5a Pde1c\", \n",
    "                    \"L5a Tcerg1l\", \"L5b Cdh13\", \"L5b Chrna6\", \"L5b Tph2\", \n",
    "                    \"L6a Car12\", \"L6a Mgp\", \"L6a Sla\", \"L6a Syt17\", \n",
    "                    \"Pvalb Tacr3\", \"Sst Myh8\")\n",
    "            )\n",
    "        ), \n",
    "        range = list(\n",
    "            left = 68.986301369863, right = 566.922374429224, \n",
    "            bottom = 541.013698630137, top = 33.1552511415525\n",
    "        ), \n",
    "        log = list(x = NULL, y = NULL), \n",
    "        direction = \"xy\", \n",
    "        brushId = \"ColumnDataPlot1_Brush\", \n",
    "        outputId = \"ColumnDataPlot1\"\n",
    "    )\n",
    ")\n",
    "\n",
    "custom.p <- GENERATOR(mode=\"TSNE\", ntop=1000, \n",
    "    ColumnSelectionSource=\"ColumnDataPlot1\")\n"
   ]
  },
  {
   "cell_type": "code",
   "execution_count": 4,
   "id": "dd8c4cab-80c5-4b77-a392-a2e311ace5c6",
   "metadata": {
    "tags": []
   },
   "outputs": [
    {
     "name": "stderr",
     "output_type": "stream",
     "text": [
      "The `name` provided ('') does not correspond to a known icon\n",
      "\n",
      "The `name` provided ('') does not correspond to a known icon\n",
      "\n",
      "The `name` provided ('') does not correspond to a known icon\n",
      "\n",
      "The `name` provided ('') does not correspond to a known icon\n",
      "\n",
      "The `name` provided ('') does not correspond to a known icon\n",
      "\n",
      "The `name` provided ('') does not correspond to a known icon\n",
      "\n",
      "The `name` provided ('') does not correspond to a known icon\n",
      "\n",
      "The `name` provided ('') does not correspond to a known icon\n",
      "\n",
      "The `name` provided ('') does not correspond to a known icon\n",
      "\n"
     ]
    }
   ],
   "source": [
    "app <- iSEE(sce, initial=list(cdp, custom.p)) "
   ]
  },
  {
   "cell_type": "code",
   "execution_count": 5,
   "id": "160d516a-ace3-4779-902d-bb1f1f071e0b",
   "metadata": {
    "tags": []
   },
   "outputs": [
    {
     "name": "stderr",
     "output_type": "stream",
     "text": [
      "Loading required package: shiny\n",
      "\n",
      "\n",
      "Listening on http://0.0.0.0:4381\n",
      "\n"
     ]
    }
   ],
   "source": [
    "# JJ port number: 4381 \n",
    "# APB port number: 3838\n",
    "# REMINDER: change port number\n",
    "\n",
    "shiny::runApp(app, port = 3838, host = \"0.0.0.0\")"
   ]
  }
 ],
 "metadata": {
  "kernelspec": {
   "display_name": "R",
   "language": "R",
   "name": "ir"
  },
  "language_info": {
   "codemirror_mode": "r",
   "file_extension": ".r",
   "mimetype": "text/x-r-source",
   "name": "R",
   "pygments_lexer": "r",
   "version": "4.2.3"
  }
 },
 "nbformat": 4,
 "nbformat_minor": 5
}

{
 "cells": [
  {
   "cell_type": "code",
   "execution_count": 1,
   "id": "cae1d184-ea6f-4883-82e2-ebc58c1009bd",
   "metadata": {
    "tags": []
   },
   "outputs": [
    {
     "name": "stderr",
     "output_type": "stream",
     "text": [
      "Loading required package: SummarizedExperiment\n",
      "\n",
      "Loading required package: MatrixGenerics\n",
      "\n",
      "Loading required package: matrixStats\n",
      "\n",
      "\n",
      "Attaching package: ‘MatrixGenerics’\n",
      "\n",
      "\n",
      "The following objects are masked from ‘package:matrixStats’:\n",
      "\n",
      "    colAlls, colAnyNAs, colAnys, colAvgsPerRowSet, colCollapse,\n",
      "    colCounts, colCummaxs, colCummins, colCumprods, colCumsums,\n",
      "    colDiffs, colIQRDiffs, colIQRs, colLogSumExps, colMadDiffs,\n",
      "    colMads, colMaxs, colMeans2, colMedians, colMins, colOrderStats,\n",
      "    colProds, colQuantiles, colRanges, colRanks, colSdDiffs, colSds,\n",
      "    colSums2, colTabulates, colVarDiffs, colVars, colWeightedMads,\n",
      "    colWeightedMeans, colWeightedMedians, colWeightedSds,\n",
      "    colWeightedVars, rowAlls, rowAnyNAs, rowAnys, rowAvgsPerColSet,\n",
      "    rowCollapse, rowCounts, rowCummaxs, rowCummins, rowCumprods,\n",
      "    rowCumsums, rowDiffs, rowIQRDiffs, rowIQRs, rowLogSumExps,\n",
      "    rowMadDiffs, rowMads, rowMaxs, rowMeans2, rowMedians, rowMins,\n",
      "    rowOrderStats, rowProds, rowQuantiles, rowRanges, rowRanks,\n",
      "    rowSdDiffs, rowSds, rowSums2, rowTabulates, rowVarDiffs, rowVars,\n",
      "    rowWeightedMads, rowWeightedMeans, rowWeightedMedians,\n",
      "    rowWeightedSds, rowWeightedVars\n",
      "\n",
      "\n",
      "Loading required package: GenomicRanges\n",
      "\n",
      "Loading required package: stats4\n",
      "\n",
      "Loading required package: BiocGenerics\n",
      "\n",
      "\n",
      "Attaching package: ‘BiocGenerics’\n",
      "\n",
      "\n",
      "The following objects are masked from ‘package:stats’:\n",
      "\n",
      "    IQR, mad, sd, var, xtabs\n",
      "\n",
      "\n",
      "The following objects are masked from ‘package:base’:\n",
      "\n",
      "    anyDuplicated, aperm, append, as.data.frame, basename, cbind,\n",
      "    colnames, dirname, do.call, duplicated, eval, evalq, Filter, Find,\n",
      "    get, grep, grepl, intersect, is.unsorted, lapply, Map, mapply,\n",
      "    match, mget, order, paste, pmax, pmax.int, pmin, pmin.int,\n",
      "    Position, rank, rbind, Reduce, rownames, sapply, setdiff, sort,\n",
      "    table, tapply, union, unique, unsplit, which.max, which.min\n",
      "\n",
      "\n",
      "Loading required package: S4Vectors\n",
      "\n",
      "\n",
      "Attaching package: ‘S4Vectors’\n",
      "\n",
      "\n",
      "The following objects are masked from ‘package:base’:\n",
      "\n",
      "    expand.grid, I, unname\n",
      "\n",
      "\n",
      "Loading required package: IRanges\n",
      "\n",
      "Loading required package: GenomeInfoDb\n",
      "\n",
      "Loading required package: Biobase\n",
      "\n",
      "Welcome to Bioconductor\n",
      "\n",
      "    Vignettes contain introductory material; view with\n",
      "    'browseVignettes()'. To cite Bioconductor, see\n",
      "    'citation(\"Biobase\")', and for packages 'citation(\"pkgname\")'.\n",
      "\n",
      "\n",
      "\n",
      "Attaching package: ‘Biobase’\n",
      "\n",
      "\n",
      "The following object is masked from ‘package:MatrixGenerics’:\n",
      "\n",
      "    rowMedians\n",
      "\n",
      "\n",
      "The following objects are masked from ‘package:matrixStats’:\n",
      "\n",
      "    anyMissing, rowMedians\n",
      "\n",
      "\n",
      "Loading required package: SingleCellExperiment\n",
      "\n",
      "\n",
      "TERMS OF USE NOTICE:\n",
      "  When using Synapse, remember that the terms and conditions of use require that you:\n",
      "  1) Attribute data contributors when discussing these data or results from these data.\n",
      "  2) Not discriminate, identify, or recontact individuals or groups represented by the data.\n",
      "  3) Use and contribute only data de-identified to HIPAA standards.\n",
      "  4) Redistribute data only under these same terms of use.\n",
      "\n",
      "\n",
      "Loading required package: dbplyr\n",
      "\n"
     ]
    }
   ],
   "source": [
    "library(iSEEindex)\n",
    "library(synapser)\n",
    "library(BiocFileCache)\n"
   ]
  },
  {
   "cell_type": "code",
   "execution_count": 3,
   "id": "3e310720-d714-43a1-9ab6-9fef82ca2fda",
   "metadata": {
    "tags": []
   },
   "outputs": [],
   "source": [
    "bfc <- BiocFileCache('../cache', ask=FALSE)"
   ]
  },
  {
   "cell_type": "code",
   "execution_count": 47,
   "id": "e3606c71-9349-45ac-a8ec-5a028aad6823",
   "metadata": {
    "tags": []
   },
   "outputs": [],
   "source": [
    "se <- readRDS('../data/pilot_MPRA_SE.rds')\n",
    "se_hepg2 <- se$pilot_HepG2"
   ]
  },
  {
   "cell_type": "code",
   "execution_count": 48,
   "id": "8cebdd92-0d8a-435e-b354-d1cc7edf1f0e",
   "metadata": {
    "tags": []
   },
   "outputs": [],
   "source": [
    "colData(se_hepg2)$replicate_status <- row.names(colData(se_hepg2))\n",
    "assays(se_hepg2)$'log2-ActivityScore' <- log2(assays(se_hepg2)$ActivityScore)\n",
    "rownames(se_hepg2) <- rowRanges(se_hepg2)$names\n",
    "rowRanges(se_hepg2)$names <- NULL\n",
    "saveRDS(se_hepg2, '../data/GSE83894-HepG2_SE.rds')"
   ]
  },
  {
   "cell_type": "code",
   "execution_count": 10,
   "id": "ea06bea0-10d7-439c-a993-eb15d5b7f7f6",
   "metadata": {
    "tags": []
   },
   "outputs": [],
   "source": [
    "# savepath <- bfcnew(bfc, \"GSE83894\", ext=\".rds\")\n",
    "# save(se, file=savepath)\n",
    "# meta <- as.data.frame(list(rid=bfcrid(bfc)[1:1], idx=1:1))\n",
    "# meta$'sample'<- 'HepG2'\n",
    "\n",
    "# bfcmeta(bfc, name=\"resourceData\") <- meta"
   ]
  },
  {
   "cell_type": "code",
   "execution_count": 4,
   "id": "be44f3e9-c43a-4fa7-86ec-a341b8cad418",
   "metadata": {
    "tags": []
   },
   "outputs": [
    {
     "name": "stderr",
     "output_type": "stream",
     "text": [
      "The `name` provided ('') does not correspond to a known icon\n",
      "\n",
      "The `name` provided ('') does not correspond to a known icon\n",
      "\n",
      "The `name` provided ('') does not correspond to a known icon\n",
      "\n",
      "The `name` provided ('') does not correspond to a known icon\n",
      "\n",
      "The `name` provided ('') does not correspond to a known icon\n",
      "\n",
      "The `name` provided ('') does not correspond to a known icon\n",
      "\n",
      "The `name` provided ('') does not correspond to a known icon\n",
      "\n",
      "The `name` provided ('') does not correspond to a known icon\n",
      "\n",
      "The `name` provided ('') does not correspond to a known icon\n",
      "\n"
     ]
    }
   ],
   "source": [
    "dataset_fun <- function() {\n",
    "    x <- yaml::read_yaml(\"../data/MPRAbase.yaml\")\n",
    "    x$datasets\n",
    "}\n",
    "\n",
    "initial_fun <- function() {\n",
    "    x <- yaml::read_yaml(\"../data/MPRAbase.yaml\")\n",
    "    x$initial\n",
    "}\n",
    "app <- iSEEindex(bfc, dataset_fun, initial_fun)"
   ]
  },
  {
   "cell_type": "code",
   "execution_count": null,
   "id": "b99bf29e-cdae-43c2-ae5f-45c184fcf500",
   "metadata": {
    "tags": []
   },
   "outputs": [],
   "source": [
    "shiny::runApp(app, port = 3838, host = \"0.0.0.0\")"
   ]
  },
  {
   "cell_type": "code",
   "execution_count": 51,
   "id": "55f9a9b4-32da-41a8-ae40-0a206beb9ae9",
   "metadata": {
    "tags": []
   },
   "outputs": [
    {
     "data": {
      "text/html": [
       "'/home/jovyan/MPRAbase/notebooks'"
      ],
      "text/latex": [
       "'/home/jovyan/MPRAbase/notebooks'"
      ],
      "text/markdown": [
       "'/home/jovyan/MPRAbase/notebooks'"
      ],
      "text/plain": [
       "[1] \"/home/jovyan/MPRAbase/notebooks\""
      ]
     },
     "metadata": {},
     "output_type": "display_data"
    }
   ],
   "source": [
    "getwd()"
   ]
  },
  {
   "cell_type": "code",
   "execution_count": null,
   "id": "f5cab516-0116-40fd-a7c4-ccfb73e280c7",
   "metadata": {
    "tags": []
   },
   "outputs": [
    {
     "name": "stderr",
     "output_type": "stream",
     "text": [
      "The `name` provided ('') does not correspond to a known icon\n",
      "\n",
      "The `name` provided ('') does not correspond to a known icon\n",
      "\n",
      "The `name` provided ('') does not correspond to a known icon\n",
      "\n",
      "The `name` provided ('') does not correspond to a known icon\n",
      "\n",
      "The `name` provided ('') does not correspond to a known icon\n",
      "\n",
      "The `name` provided ('') does not correspond to a known icon\n",
      "\n",
      "The `name` provided ('') does not correspond to a known icon\n",
      "\n",
      "The `name` provided ('') does not correspond to a known icon\n",
      "\n",
      "The `name` provided ('') does not correspond to a known icon\n",
      "\n",
      "\n",
      "Listening on http://0.0.0.0:3838\n",
      "\n"
     ]
    }
   ],
   "source": [
    "bfc <- BiocFileCache('../cache', ask=FALSE)\n",
    "dataset_fun <- function() {\n",
    "    x <- yaml::read_yaml(\"/home/jovyan/MPRAbase-Builder/data/MPRAbase-v0.1.6-1.yaml\")\n",
    "    x$datasets\n",
    "}\n",
    "\n",
    "initial_fun <- function() {\n",
    "    x <- yaml::read_yaml(\"/home/jovyan/MPRAbase-Builder/data/MPRAbase-v0.1.6-1.yaml\")\n",
    "    x$initial\n",
    "}\n",
    "\n",
    "app <- iSEEindex(bfc, dataset_fun, initial_fun)\n",
    "shiny::runApp(app, port = 3838, host = \"0.0.0.0\")"
   ]
  },
  {
   "cell_type": "code",
   "execution_count": null,
   "id": "adc62036-e1a4-4a75-933b-4055060648c9",
   "metadata": {},
   "outputs": [],
   "source": []
  }
 ],
 "metadata": {
  "kernelspec": {
   "display_name": "R",
   "language": "R",
   "name": "ir"
  },
  "language_info": {
   "codemirror_mode": "r",
   "file_extension": ".r",
   "mimetype": "text/x-r-source",
   "name": "R",
   "pygments_lexer": "r",
   "version": "4.2.3"
  }
 },
 "nbformat": 4,
 "nbformat_minor": 5
}

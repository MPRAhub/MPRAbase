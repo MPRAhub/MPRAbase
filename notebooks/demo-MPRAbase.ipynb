{
 "cells": [
  {
   "cell_type": "code",
   "execution_count": 2,
   "id": "cae1d184-ea6f-4883-82e2-ebc58c1009bd",
   "metadata": {
    "tags": []
   },
   "outputs": [],
   "source": [
    "library(iSEEindex)\n",
    "library(synapser)\n",
    "library(BiocFileCache)"
   ]
  },
  {
   "cell_type": "code",
   "execution_count": 3,
   "id": "3e310720-d714-43a1-9ab6-9fef82ca2fda",
   "metadata": {
    "tags": []
   },
   "outputs": [],
   "source": [
    "# bfc <- BiocFileCache('../cache', ask=FALSE)"
   ]
  },
  {
   "cell_type": "code",
   "execution_count": 47,
   "id": "e3606c71-9349-45ac-a8ec-5a028aad6823",
   "metadata": {
    "tags": []
   },
   "outputs": [],
   "source": [
    "# se <- readRDS('../data/pilot_MPRA_SE.rds')\n",
    "# se_hepg2 <- se$pilot_HepG2"
   ]
  },
  {
   "cell_type": "code",
   "execution_count": 48,
   "id": "8cebdd92-0d8a-435e-b354-d1cc7edf1f0e",
   "metadata": {
    "tags": []
   },
   "outputs": [],
   "source": [
    "# colData(se_hepg2)$replicate_status <- row.names(colData(se_hepg2))\n",
    "# assays(se_hepg2)$'log2-ActivityScore' <- log2(assays(se_hepg2)$ActivityScore)\n",
    "# rownames(se_hepg2) <- rowRanges(se_hepg2)$names\n",
    "# rowRanges(se_hepg2)$names <- NULL\n",
    "# saveRDS(se_hepg2, '../data/GSE83894-HepG2_SE.rds')"
   ]
  },
  {
   "cell_type": "code",
   "execution_count": 10,
   "id": "ea06bea0-10d7-439c-a993-eb15d5b7f7f6",
   "metadata": {
    "tags": []
   },
   "outputs": [],
   "source": [
    "# savepath <- bfcnew(bfc, \"GSE83894\", ext=\".rds\")\n",
    "# save(se, file=savepath)\n",
    "# meta <- as.data.frame(list(rid=bfcrid(bfc)[1:1], idx=1:1))\n",
    "# meta$'sample'<- 'HepG2'\n",
    "\n",
    "# bfcmeta(bfc, name=\"resourceData\") <- meta"
   ]
  },
  {
   "cell_type": "code",
   "execution_count": 4,
   "id": "be44f3e9-c43a-4fa7-86ec-a341b8cad418",
   "metadata": {
    "tags": []
   },
   "outputs": [
    {
     "name": "stderr",
     "output_type": "stream",
     "text": [
      "The `name` provided ('') does not correspond to a known icon\n",
      "\n",
      "The `name` provided ('') does not correspond to a known icon\n",
      "\n",
      "The `name` provided ('') does not correspond to a known icon\n",
      "\n",
      "The `name` provided ('') does not correspond to a known icon\n",
      "\n",
      "The `name` provided ('') does not correspond to a known icon\n",
      "\n",
      "The `name` provided ('') does not correspond to a known icon\n",
      "\n",
      "The `name` provided ('') does not correspond to a known icon\n",
      "\n",
      "The `name` provided ('') does not correspond to a known icon\n",
      "\n",
      "The `name` provided ('') does not correspond to a known icon\n",
      "\n"
     ]
    }
   ],
   "source": [
    "dataset_fun <- function() {\n",
    "    x <- yaml::read_yaml(\"../data/MPRAbase.yaml\")\n",
    "    x$datasets\n",
    "}\n",
    "\n",
    "initial_fun <- function() {\n",
    "    x <- yaml::read_yaml(\"../data/MPRAbase.yaml\")\n",
    "    x$initial\n",
    "}\n",
    "app <- iSEEindex(bfc, dataset_fun, initial_fun)"
   ]
  },
  {
   "cell_type": "code",
   "execution_count": null,
   "id": "b99bf29e-cdae-43c2-ae5f-45c184fcf500",
   "metadata": {
    "tags": []
   },
   "outputs": [],
   "source": [
    "shiny::runApp(app, port = 3838, host = \"0.0.0.0\")"
   ]
  },
  {
   "cell_type": "code",
   "execution_count": 51,
   "id": "55f9a9b4-32da-41a8-ae40-0a206beb9ae9",
   "metadata": {
    "tags": []
   },
   "outputs": [
    {
     "data": {
      "text/html": [
       "'/home/jovyan/MPRAbase/notebooks'"
      ],
      "text/latex": [
       "'/home/jovyan/MPRAbase/notebooks'"
      ],
      "text/markdown": [
       "'/home/jovyan/MPRAbase/notebooks'"
      ],
      "text/plain": [
       "[1] \"/home/jovyan/MPRAbase/notebooks\""
      ]
     },
     "metadata": {},
     "output_type": "display_data"
    }
   ],
   "source": [
    "getwd()"
   ]
  },
  {
   "cell_type": "code",
   "execution_count": null,
   "id": "f5cab516-0116-40fd-a7c4-ccfb73e280c7",
   "metadata": {
    "tags": []
   },
   "outputs": [
    {
     "name": "stderr",
     "output_type": "stream",
     "text": [
      "The `name` provided ('') does not correspond to a known icon\n",
      "\n",
      "The `name` provided ('') does not correspond to a known icon\n",
      "\n",
      "The `name` provided ('') does not correspond to a known icon\n",
      "\n",
      "The `name` provided ('') does not correspond to a known icon\n",
      "\n",
      "The `name` provided ('') does not correspond to a known icon\n",
      "\n",
      "The `name` provided ('') does not correspond to a known icon\n",
      "\n",
      "The `name` provided ('') does not correspond to a known icon\n",
      "\n",
      "The `name` provided ('') does not correspond to a known icon\n",
      "\n",
      "The `name` provided ('') does not correspond to a known icon\n",
      "\n",
      "\n",
      "Listening on http://0.0.0.0:3838\n",
      "\n"
     ]
    }
   ],
   "source": [
    "bfc <- BiocFileCache('../cache', ask=FALSE)\n",
    "dataset_fun <- function() {\n",
    "    x <- yaml::read_yaml(\"/home/jovyan/MPRAbase-Builder/data/MPRAbase-v0.1.6-1.yaml\")\n",
    "    x$datasets\n",
    "}\n",
    "\n",
    "initial_fun <- function() {\n",
    "    x <- yaml::read_yaml(\"/home/jovyan/MPRAbase-Builder/data/MPRAbase-v0.1.6-1.yaml\")\n",
    "    x$initial\n",
    "}\n",
    "\n",
    "app <- iSEEindex(bfc, dataset_fun, initial_fun)\n",
    "shiny::runApp(app, port = 3838, host = \"0.0.0.0\")"
   ]
  },
  {
   "cell_type": "code",
   "execution_count": null,
   "id": "adc62036-e1a4-4a75-933b-4055060648c9",
   "metadata": {},
   "outputs": [],
   "source": []
  }
 ],
 "metadata": {
  "kernelspec": {
   "display_name": "R",
   "language": "R",
   "name": "ir"
  },
  "language_info": {
   "codemirror_mode": "r",
   "file_extension": ".r",
   "mimetype": "text/x-r-source",
   "name": "R",
   "pygments_lexer": "r",
   "version": "4.2.2"
  }
 },
 "nbformat": 4,
 "nbformat_minor": 5
}

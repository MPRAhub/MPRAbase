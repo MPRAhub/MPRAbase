{
 "cells": [
  {
   "cell_type": "code",
   "execution_count": 1,
   "id": "cae1d184-ea6f-4883-82e2-ebc58c1009bd",
   "metadata": {
    "tags": []
   },
   "outputs": [
    {
     "name": "stderr",
     "output_type": "stream",
     "text": [
      "Loading required package: SummarizedExperiment\n",
      "\n",
      "Loading required package: MatrixGenerics\n",
      "\n",
      "Loading required package: matrixStats\n",
      "\n",
      "\n",
      "Attaching package: ‘MatrixGenerics’\n",
      "\n",
      "\n",
      "The following objects are masked from ‘package:matrixStats’:\n",
      "\n",
      "    colAlls, colAnyNAs, colAnys, colAvgsPerRowSet, colCollapse,\n",
      "    colCounts, colCummaxs, colCummins, colCumprods, colCumsums,\n",
      "    colDiffs, colIQRDiffs, colIQRs, colLogSumExps, colMadDiffs,\n",
      "    colMads, colMaxs, colMeans2, colMedians, colMins, colOrderStats,\n",
      "    colProds, colQuantiles, colRanges, colRanks, colSdDiffs, colSds,\n",
      "    colSums2, colTabulates, colVarDiffs, colVars, colWeightedMads,\n",
      "    colWeightedMeans, colWeightedMedians, colWeightedSds,\n",
      "    colWeightedVars, rowAlls, rowAnyNAs, rowAnys, rowAvgsPerColSet,\n",
      "    rowCollapse, rowCounts, rowCummaxs, rowCummins, rowCumprods,\n",
      "    rowCumsums, rowDiffs, rowIQRDiffs, rowIQRs, rowLogSumExps,\n",
      "    rowMadDiffs, rowMads, rowMaxs, rowMeans2, rowMedians, rowMins,\n",
      "    rowOrderStats, rowProds, rowQuantiles, rowRanges, rowRanks,\n",
      "    rowSdDiffs, rowSds, rowSums2, rowTabulates, rowVarDiffs, rowVars,\n",
      "    rowWeightedMads, rowWeightedMeans, rowWeightedMedians,\n",
      "    rowWeightedSds, rowWeightedVars\n",
      "\n",
      "\n",
      "Loading required package: GenomicRanges\n",
      "\n",
      "Loading required package: stats4\n",
      "\n",
      "Loading required package: BiocGenerics\n",
      "\n",
      "\n",
      "Attaching package: ‘BiocGenerics’\n",
      "\n",
      "\n",
      "The following objects are masked from ‘package:stats’:\n",
      "\n",
      "    IQR, mad, sd, var, xtabs\n",
      "\n",
      "\n",
      "The following objects are masked from ‘package:base’:\n",
      "\n",
      "    anyDuplicated, aperm, append, as.data.frame, basename, cbind,\n",
      "    colnames, dirname, do.call, duplicated, eval, evalq, Filter, Find,\n",
      "    get, grep, grepl, intersect, is.unsorted, lapply, Map, mapply,\n",
      "    match, mget, order, paste, pmax, pmax.int, pmin, pmin.int,\n",
      "    Position, rank, rbind, Reduce, rownames, sapply, setdiff, sort,\n",
      "    table, tapply, union, unique, unsplit, which.max, which.min\n",
      "\n",
      "\n",
      "Loading required package: S4Vectors\n",
      "\n",
      "\n",
      "Attaching package: ‘S4Vectors’\n",
      "\n",
      "\n",
      "The following objects are masked from ‘package:base’:\n",
      "\n",
      "    expand.grid, I, unname\n",
      "\n",
      "\n",
      "Loading required package: IRanges\n",
      "\n",
      "Loading required package: GenomeInfoDb\n",
      "\n",
      "Loading required package: Biobase\n",
      "\n",
      "Welcome to Bioconductor\n",
      "\n",
      "    Vignettes contain introductory material; view with\n",
      "    'browseVignettes()'. To cite Bioconductor, see\n",
      "    'citation(\"Biobase\")', and for packages 'citation(\"pkgname\")'.\n",
      "\n",
      "\n",
      "\n",
      "Attaching package: ‘Biobase’\n",
      "\n",
      "\n",
      "The following object is masked from ‘package:MatrixGenerics’:\n",
      "\n",
      "    rowMedians\n",
      "\n",
      "\n",
      "The following objects are masked from ‘package:matrixStats’:\n",
      "\n",
      "    anyMissing, rowMedians\n",
      "\n",
      "\n",
      "Loading required package: SingleCellExperiment\n",
      "\n",
      "\n",
      "TERMS OF USE NOTICE:\n",
      "  When using Synapse, remember that the terms and conditions of use require that you:\n",
      "  1) Attribute data contributors when discussing these data or results from these data.\n",
      "  2) Not discriminate, identify, or recontact individuals or groups represented by the data.\n",
      "  3) Use and contribute only data de-identified to HIPAA standards.\n",
      "  4) Redistribute data only under these same terms of use.\n",
      "\n",
      "\n",
      "Loading required package: dbplyr\n",
      "\n"
     ]
    }
   ],
   "source": [
    "library(iSEEindex)\n",
    "library(synapser)\n",
    "library(BiocFileCache)"
   ]
  },
  {
   "cell_type": "code",
   "execution_count": 2,
   "id": "3e310720-d714-43a1-9ab6-9fef82ca2fda",
   "metadata": {
    "tags": []
   },
   "outputs": [],
   "source": [
    "bfc <- BiocFileCache('../data', ask=FALSE)"
   ]
  },
  {
   "cell_type": "code",
   "execution_count": 3,
   "id": "85000f33-c3ce-4c84-a533-c22a13c9efac",
   "metadata": {
    "tags": []
   },
   "outputs": [],
   "source": [
    "se <- readRDS('../data/GSE83894-HepG2_SE.rds')"
   ]
  },
  {
   "cell_type": "code",
   "execution_count": 4,
   "id": "cd2ea9aa-7f34-46b4-9934-25e2fad651a2",
   "metadata": {
    "tags": []
   },
   "outputs": [
    {
     "data": {
      "text/plain": [
       "class: RangedSummarizedExperiment \n",
       "dim: 9016 3 \n",
       "metadata(9): labs ENCODE_ID ... number_of_elements readme\n",
       "assays(1): ActivityScore\n",
       "rownames: NULL\n",
       "rowData names(4): names genome_build sequence genomic_note\n",
       "colnames(3): rep1 rep2 rep3\n",
       "colData names(5): REP ENCODE_ID sample_status replicate_status\n",
       "  cell_lines"
      ]
     },
     "metadata": {},
     "output_type": "display_data"
    }
   ],
   "source": [
    "se"
   ]
  },
  {
   "cell_type": "code",
   "execution_count": 5,
   "id": "ea06bea0-10d7-439c-a993-eb15d5b7f7f6",
   "metadata": {
    "tags": []
   },
   "outputs": [],
   "source": [
    "savepath <- bfcnew(bfc, \"GSE83894\", ext=\".rds\")\n",
    "save(se, file=savepath)\n",
    "meta <- as.data.frame(list(rid=bfcrid(bfc)[1:1], idx=1:1))\n",
    "meta$'sample'<- 'HepG2'\n",
    "\n",
    "bfcmeta(bfc, name=\"resourceData\") <- meta"
   ]
  },
  {
   "cell_type": "code",
   "execution_count": 7,
   "id": "0c871aa6-24ba-487f-b568-7ec2a37745fd",
   "metadata": {
    "tags": []
   },
   "outputs": [
    {
     "data": {
      "text/html": [
       "<table class=\"dataframe\">\n",
       "<caption>A tbl_bfc: 2 × 10</caption>\n",
       "<thead>\n",
       "\t<tr><th scope=col>rid</th><th scope=col>rname</th><th scope=col>create_time</th><th scope=col>access_time</th><th scope=col>rpath</th><th scope=col>rtype</th><th scope=col>fpath</th><th scope=col>last_modified_time</th><th scope=col>etag</th><th scope=col>expires</th></tr>\n",
       "\t<tr><th scope=col>&lt;chr&gt;</th><th scope=col>&lt;chr&gt;</th><th scope=col>&lt;chr&gt;</th><th scope=col>&lt;chr&gt;</th><th scope=col>&lt;chr&gt;</th><th scope=col>&lt;chr&gt;</th><th scope=col>&lt;chr&gt;</th><th scope=col>&lt;dbl&gt;</th><th scope=col>&lt;chr&gt;</th><th scope=col>&lt;dbl&gt;</th></tr>\n",
       "</thead>\n",
       "<tbody>\n",
       "\t<tr><td>BFC1</td><td>BFC1              </td><td>2023-04-28 19:37:14</td><td>2023-04-28 19:37:14</td><td>../data/3aafc20e9184a_GSE83894-HepG2_SE.rds</td><td>relative</td><td>../data/GSE83894-HepG2_SE.rds</td><td>NA</td><td>NA</td><td>NA</td></tr>\n",
       "\t<tr><td>BFC2</td><td>BFC1_config01rcall</td><td>2023-04-28 20:29:28</td><td>2023-04-28 20:29:28</td><td>../data/d0a72a9ca8c5_analysis-secondary.R  </td><td>relative</td><td>analysis-secondary.R         </td><td>NA</td><td>NA</td><td>NA</td></tr>\n",
       "</tbody>\n",
       "</table>\n"
      ],
      "text/latex": [
       "A tbl\\_bfc: 2 × 10\n",
       "\\begin{tabular}{llllllllll}\n",
       " rid & rname & create\\_time & access\\_time & rpath & rtype & fpath & last\\_modified\\_time & etag & expires\\\\\n",
       " <chr> & <chr> & <chr> & <chr> & <chr> & <chr> & <chr> & <dbl> & <chr> & <dbl>\\\\\n",
       "\\hline\n",
       "\t BFC1 & BFC1               & 2023-04-28 19:37:14 & 2023-04-28 19:37:14 & ../data/3aafc20e9184a\\_GSE83894-HepG2\\_SE.rds & relative & ../data/GSE83894-HepG2\\_SE.rds & NA & NA & NA\\\\\n",
       "\t BFC2 & BFC1\\_config01rcall & 2023-04-28 20:29:28 & 2023-04-28 20:29:28 & ../data/d0a72a9ca8c5\\_analysis-secondary.R   & relative & analysis-secondary.R          & NA & NA & NA\\\\\n",
       "\\end{tabular}\n"
      ],
      "text/markdown": [
       "\n",
       "A tbl_bfc: 2 × 10\n",
       "\n",
       "| rid &lt;chr&gt; | rname &lt;chr&gt; | create_time &lt;chr&gt; | access_time &lt;chr&gt; | rpath &lt;chr&gt; | rtype &lt;chr&gt; | fpath &lt;chr&gt; | last_modified_time &lt;dbl&gt; | etag &lt;chr&gt; | expires &lt;dbl&gt; |\n",
       "|---|---|---|---|---|---|---|---|---|---|\n",
       "| BFC1 | BFC1               | 2023-04-28 19:37:14 | 2023-04-28 19:37:14 | ../data/3aafc20e9184a_GSE83894-HepG2_SE.rds | relative | ../data/GSE83894-HepG2_SE.rds | NA | NA | NA |\n",
       "| BFC2 | BFC1_config01rcall | 2023-04-28 20:29:28 | 2023-04-28 20:29:28 | ../data/d0a72a9ca8c5_analysis-secondary.R   | relative | analysis-secondary.R          | NA | NA | NA |\n",
       "\n"
      ],
      "text/plain": [
       "  rid  rname              create_time         access_time        \n",
       "1 BFC1 BFC1               2023-04-28 19:37:14 2023-04-28 19:37:14\n",
       "2 BFC2 BFC1_config01rcall 2023-04-28 20:29:28 2023-04-28 20:29:28\n",
       "  rpath                                       rtype   \n",
       "1 ../data/3aafc20e9184a_GSE83894-HepG2_SE.rds relative\n",
       "2 ../data/d0a72a9ca8c5_analysis-secondary.R   relative\n",
       "  fpath                         last_modified_time etag expires\n",
       "1 ../data/GSE83894-HepG2_SE.rds NA                 NA   NA     \n",
       "2 analysis-secondary.R          NA                 NA   NA     "
      ]
     },
     "metadata": {},
     "output_type": "display_data"
    }
   ],
   "source": [
    "bfcinfo(bfc)"
   ]
  },
  {
   "cell_type": "code",
   "execution_count": 3,
   "id": "f5cab516-0116-40fd-a7c4-ccfb73e280c7",
   "metadata": {
    "tags": []
   },
   "outputs": [
    {
     "name": "stderr",
     "output_type": "stream",
     "text": [
      "The `name` provided ('') does not correspond to a known icon\n",
      "\n",
      "The `name` provided ('') does not correspond to a known icon\n",
      "\n",
      "The `name` provided ('') does not correspond to a known icon\n",
      "\n",
      "The `name` provided ('') does not correspond to a known icon\n",
      "\n",
      "The `name` provided ('') does not correspond to a known icon\n",
      "\n",
      "The `name` provided ('') does not correspond to a known icon\n",
      "\n",
      "The `name` provided ('') does not correspond to a known icon\n",
      "\n",
      "The `name` provided ('') does not correspond to a known icon\n",
      "\n",
      "The `name` provided ('') does not correspond to a known icon\n",
      "\n"
     ]
    }
   ],
   "source": [
    "dataset_fun <- function() {\n",
    "    x <- yaml::read_yaml(\"example.yaml\")\n",
    "    x$datasets\n",
    "}\n",
    "\n",
    "initial_fun <- function() {\n",
    "    x <- yaml::read_yaml(\"example.yaml\")\n",
    "    x$initial\n",
    "}\n",
    "\n",
    "\n",
    "app <- iSEEindex(bfc, dataset_fun, initial_fun)"
   ]
  },
  {
   "cell_type": "code",
   "execution_count": null,
   "id": "39b65118-04ef-4569-839d-470a74db42f3",
   "metadata": {
    "tags": []
   },
   "outputs": [
    {
     "name": "stderr",
     "output_type": "stream",
     "text": [
      "Loading required package: shiny\n",
      "\n",
      "\n",
      "Listening on http://0.0.0.0:3838\n",
      "\n"
     ]
    },
    {
     "name": "stdout",
     "output_type": "stream",
     "text": [
      "    id\n",
      "1 BFC1\n",
      "                                                                                                                  title\n",
      "1 A systematic comparison reveals substantial differences in chromosomal versus episomal encoding of enhancer activity.\n",
      "                                        uri     provider               contact\n",
      "1 localhost://../data/GSE83894-HepG2_SE.rds Nadav Ahituv Nadav.Ahituv@ucsf.edu\n",
      "       geo      encode sample\n",
      "1 GSE83894 ENCSR463IRX  HepG2\n",
      "                                                                                                                                                                                                                                                                                                                                                                                                                                                                                                                                                         description\n",
      "1 We developed and applied a novel lentivirus-based massively parallel reporter assay (lentiMPRA) to directly compare the functional activities of 2,236 candidate liver enhancers and 204 controls in an episomal versus a chromosomally integrated context. By using integration-competent vs. integration-defective components of the lentiviral system, we directly compared the functional activities of 2,236 candidate liver enhancers in a chromosomally integrated versus an episomal context in the human liver hepatocellular carcinoma cell line, HepG2.\n",
      "                                                                                                                                                            reference\n",
      "1 Inoue, F. et al. A systematic comparison reveals substantial differences in chromosomal versus episomal encoding of enhancer activity. Genome Res 27, 38–52 (2017).\n"
     ]
    },
    {
     "name": "stderr",
     "output_type": "stream",
     "text": [
      "Warning message in .nextMethod(se = se):\n",
      "“filling in the missing 'rownames(se)'”\n",
      "Warning message in .refineParameters(initial[[idx]], se):\n",
      "“no 'reducedDims' with non-zero dimensions for 'ReducedDimensionPlot'”\n",
      "Warning message in .refineParameters(extra[[idx]], se):\n",
      "“no 'reducedDims' with non-zero dimensions for 'ReducedDimensionPlot'”\n",
      "Warning message in .coerce_type(v, f, max_levels = max_levels, df = df):\n",
      "“covariate has too many unique values, coercing to numeric”\n",
      "Warning message in .coerce_type(v, f, max_levels = max_levels, df = df):\n",
      "“covariate has too many unique values, coercing to numeric”\n"
     ]
    },
    {
     "name": "stdout",
     "output_type": "stream",
     "text": [
      "    id\n",
      "1 BFC1\n",
      "                                                                                                                  title\n",
      "1 A systematic comparison reveals substantial differences in chromosomal versus episomal encoding of enhancer activity.\n",
      "                                        uri     provider               contact\n",
      "1 localhost://../data/GSE83894-HepG2_SE.rds Nadav Ahituv Nadav.Ahituv@ucsf.edu\n",
      "       geo      encode sample\n",
      "1 GSE83894 ENCSR463IRX  HepG2\n",
      "                                                                                                                                                                                                                                                                                                                                                                                                                                                                                                                                                         description\n",
      "1 We developed and applied a novel lentivirus-based massively parallel reporter assay (lentiMPRA) to directly compare the functional activities of 2,236 candidate liver enhancers and 204 controls in an episomal versus a chromosomally integrated context. By using integration-competent vs. integration-defective components of the lentiviral system, we directly compared the functional activities of 2,236 candidate liver enhancers in a chromosomally integrated versus an episomal context in the human liver hepatocellular carcinoma cell line, HepG2.\n",
      "                                                                                                                                                            reference\n",
      "1 Inoue, F. et al. A systematic comparison reveals substantial differences in chromosomal versus episomal encoding of enhancer activity. Genome Res 27, 38–52 (2017).\n"
     ]
    },
    {
     "name": "stderr",
     "output_type": "stream",
     "text": [
      "Warning message in .nextMethod(se = se):\n",
      "“filling in the missing 'rownames(se)'”\n",
      "Warning message in .refineParameters(extra[[idx]], se):\n",
      "“no 'reducedDims' with non-zero dimensions for 'ReducedDimensionPlot'”\n"
     ]
    },
    {
     "name": "stdout",
     "output_type": "stream",
     "text": [
      "    id\n",
      "1 BFC1\n",
      "                                                                                                                  title\n",
      "1 A systematic comparison reveals substantial differences in chromosomal versus episomal encoding of enhancer activity.\n",
      "                                        uri     provider               contact\n",
      "1 localhost://../data/GSE83894-HepG2_SE.rds Nadav Ahituv Nadav.Ahituv@ucsf.edu\n",
      "       geo      encode sample\n",
      "1 GSE83894 ENCSR463IRX  HepG2\n",
      "                                                                                                                                                                                                                                                                                                                                                                                                                                                                                                                                                         description\n",
      "1 We developed and applied a novel lentivirus-based massively parallel reporter assay (lentiMPRA) to directly compare the functional activities of 2,236 candidate liver enhancers and 204 controls in an episomal versus a chromosomally integrated context. By using integration-competent vs. integration-defective components of the lentiviral system, we directly compared the functional activities of 2,236 candidate liver enhancers in a chromosomally integrated versus an episomal context in the human liver hepatocellular carcinoma cell line, HepG2.\n",
      "                                                                                                                                                            reference\n",
      "1 Inoue, F. et al. A systematic comparison reveals substantial differences in chromosomal versus episomal encoding of enhancer activity. Genome Res 27, 38–52 (2017).\n"
     ]
    },
    {
     "name": "stderr",
     "output_type": "stream",
     "text": [
      "Warning message in .nextMethod(se = se):\n",
      "“filling in the missing 'rownames(se)'”\n",
      "Warning message in .refineParameters(initial[[idx]], se):\n",
      "“no 'reducedDims' with non-zero dimensions for 'ReducedDimensionPlot'”\n",
      "Warning message in .refineParameters(extra[[idx]], se):\n",
      "“no 'reducedDims' with non-zero dimensions for 'ReducedDimensionPlot'”\n",
      "Warning message in .coerce_type(v, f, max_levels = max_levels, df = df):\n",
      "“covariate has too many unique values, coercing to numeric”\n",
      "Warning message in .coerce_type(v, f, max_levels = max_levels, df = df):\n",
      "“covariate has too many unique values, coercing to numeric”\n"
     ]
    },
    {
     "name": "stdout",
     "output_type": "stream",
     "text": [
      "    id\n",
      "1 BFC1\n",
      "                                                                                                                  title\n",
      "1 A systematic comparison reveals substantial differences in chromosomal versus episomal encoding of enhancer activity.\n",
      "                                        uri     provider               contact\n",
      "1 localhost://../data/GSE83894-HepG2_SE.rds Nadav Ahituv Nadav.Ahituv@ucsf.edu\n",
      "       geo      encode sample\n",
      "1 GSE83894 ENCSR463IRX  HepG2\n",
      "                                                                                                                                                                                                                                                                                                                                                                                                                                                                                                                                                         description\n",
      "1 We developed and applied a novel lentivirus-based massively parallel reporter assay (lentiMPRA) to directly compare the functional activities of 2,236 candidate liver enhancers and 204 controls in an episomal versus a chromosomally integrated context. By using integration-competent vs. integration-defective components of the lentiviral system, we directly compared the functional activities of 2,236 candidate liver enhancers in a chromosomally integrated versus an episomal context in the human liver hepatocellular carcinoma cell line, HepG2.\n",
      "                                                                                                                                                            reference\n",
      "1 Inoue, F. et al. A systematic comparison reveals substantial differences in chromosomal versus episomal encoding of enhancer activity. Genome Res 27, 38–52 (2017).\n",
      "    id\n",
      "1 BFC1\n",
      "                                                                                                                  title\n",
      "1 A systematic comparison reveals substantial differences in chromosomal versus episomal encoding of enhancer activity.\n",
      "                                        uri     provider               contact\n",
      "1 localhost://../data/GSE83894-HepG2_SE.rds Nadav Ahituv Nadav.Ahituv@ucsf.edu\n",
      "       geo      encode sample\n",
      "1 GSE83894 ENCSR463IRX  HepG2\n",
      "                                                                                                                                                                                                                                                                                                                                                                                                                                                                                                                                                         description\n",
      "1 We developed and applied a novel lentivirus-based massively parallel reporter assay (lentiMPRA) to directly compare the functional activities of 2,236 candidate liver enhancers and 204 controls in an episomal versus a chromosomally integrated context. By using integration-competent vs. integration-defective components of the lentiviral system, we directly compared the functional activities of 2,236 candidate liver enhancers in a chromosomally integrated versus an episomal context in the human liver hepatocellular carcinoma cell line, HepG2.\n",
      "                                                                                                                                                            reference\n",
      "1 Inoue, F. et al. A systematic comparison reveals substantial differences in chromosomal versus episomal encoding of enhancer activity. Genome Res 27, 38–52 (2017).\n"
     ]
    },
    {
     "name": "stderr",
     "output_type": "stream",
     "text": [
      "Warning message in .nextMethod(se = se):\n",
      "“filling in the missing 'rownames(se)'”\n",
      "Warning message in .refineParameters(extra[[idx]], se):\n",
      "“no 'reducedDims' with non-zero dimensions for 'ReducedDimensionPlot'”\n"
     ]
    },
    {
     "name": "stdout",
     "output_type": "stream",
     "text": [
      "    id\n",
      "1 BFC1\n",
      "                                                                                                                  title\n",
      "1 A systematic comparison reveals substantial differences in chromosomal versus episomal encoding of enhancer activity.\n",
      "                                        uri     provider               contact\n",
      "1 localhost://../data/GSE83894-HepG2_SE.rds Nadav Ahituv Nadav.Ahituv@ucsf.edu\n",
      "       geo      encode sample\n",
      "1 GSE83894 ENCSR463IRX  HepG2\n",
      "                                                                                                                                                                                                                                                                                                                                                                                                                                                                                                                                                         description\n",
      "1 We developed and applied a novel lentivirus-based massively parallel reporter assay (lentiMPRA) to directly compare the functional activities of 2,236 candidate liver enhancers and 204 controls in an episomal versus a chromosomally integrated context. By using integration-competent vs. integration-defective components of the lentiviral system, we directly compared the functional activities of 2,236 candidate liver enhancers in a chromosomally integrated versus an episomal context in the human liver hepatocellular carcinoma cell line, HepG2.\n",
      "                                                                                                                                                            reference\n",
      "1 Inoue, F. et al. A systematic comparison reveals substantial differences in chromosomal versus episomal encoding of enhancer activity. Genome Res 27, 38–52 (2017).\n"
     ]
    },
    {
     "name": "stderr",
     "output_type": "stream",
     "text": [
      "Warning message in .nextMethod(se = se):\n",
      "“filling in the missing 'rownames(se)'”\n",
      "Warning message in .refineParameters(extra[[idx]], se):\n",
      "“no 'reducedDims' with non-zero dimensions for 'ReducedDimensionPlot'”\n"
     ]
    }
   ],
   "source": [
    "shiny::runApp(app, port = 3838, host = \"0.0.0.0\")"
   ]
  }
 ],
 "metadata": {
  "kernelspec": {
   "display_name": "R",
   "language": "R",
   "name": "ir"
  },
  "language_info": {
   "codemirror_mode": "r",
   "file_extension": ".r",
   "mimetype": "text/x-r-source",
   "name": "R",
   "pygments_lexer": "r",
   "version": "4.2.3"
  }
 },
 "nbformat": 4,
 "nbformat_minor": 5
}

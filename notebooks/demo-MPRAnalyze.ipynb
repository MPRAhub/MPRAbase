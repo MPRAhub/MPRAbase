{
 "cells": [
  {
   "cell_type": "code",
   "execution_count": 1,
   "id": "72a370f3-def1-4103-8ed3-caa809272ab2",
   "metadata": {
    "tags": []
   },
   "outputs": [],
   "source": [
    "library(MPRAnalyze)"
   ]
  },
  {
   "cell_type": "code",
   "execution_count": 2,
   "id": "6ba28dce-9b11-4215-93a0-f542b09500f0",
   "metadata": {
    "tags": []
   },
   "outputs": [
    {
     "data": {
      "text/plain": [
       " batch  condition    barcode  \n",
       " 1:20   MT:20     1      : 4  \n",
       " 2:20   WT:20     2      : 4  \n",
       "                  3      : 4  \n",
       "                  4      : 4  \n",
       "                  5      : 4  \n",
       "                  6      : 4  \n",
       "                  (Other):16  "
      ]
     },
     "metadata": {},
     "output_type": "display_data"
    }
   ],
   "source": [
    "data(\"ChrEpi\")\n",
    "summary(ce.colAnnot)"
   ]
  },
  {
   "cell_type": "code",
   "execution_count": 4,
   "id": "f8bda717-1fdd-4a82-af1a-4b211db2225c",
   "metadata": {
    "tags": []
   },
   "outputs": [
    {
     "data": {
      "text/html": [
       "<table class=\"dataframe\">\n",
       "<caption>A data.frame: 6 × 3</caption>\n",
       "<thead>\n",
       "\t<tr><th></th><th scope=col>batch</th><th scope=col>condition</th><th scope=col>barcode</th></tr>\n",
       "\t<tr><th></th><th scope=col>&lt;fct&gt;</th><th scope=col>&lt;fct&gt;</th><th scope=col>&lt;fct&gt;</th></tr>\n",
       "</thead>\n",
       "<tbody>\n",
       "\t<tr><th scope=row>MT:1:001</th><td>1</td><td>MT</td><td>1</td></tr>\n",
       "\t<tr><th scope=row>MT:1:002</th><td>1</td><td>MT</td><td>2</td></tr>\n",
       "\t<tr><th scope=row>MT:1:003</th><td>1</td><td>MT</td><td>3</td></tr>\n",
       "\t<tr><th scope=row>MT:1:004</th><td>1</td><td>MT</td><td>4</td></tr>\n",
       "\t<tr><th scope=row>MT:1:005</th><td>1</td><td>MT</td><td>5</td></tr>\n",
       "\t<tr><th scope=row>MT:1:006</th><td>1</td><td>MT</td><td>6</td></tr>\n",
       "</tbody>\n",
       "</table>\n"
      ],
      "text/latex": [
       "A data.frame: 6 × 3\n",
       "\\begin{tabular}{r|lll}\n",
       "  & batch & condition & barcode\\\\\n",
       "  & <fct> & <fct> & <fct>\\\\\n",
       "\\hline\n",
       "\tMT:1:001 & 1 & MT & 1\\\\\n",
       "\tMT:1:002 & 1 & MT & 2\\\\\n",
       "\tMT:1:003 & 1 & MT & 3\\\\\n",
       "\tMT:1:004 & 1 & MT & 4\\\\\n",
       "\tMT:1:005 & 1 & MT & 5\\\\\n",
       "\tMT:1:006 & 1 & MT & 6\\\\\n",
       "\\end{tabular}\n"
      ],
      "text/markdown": [
       "\n",
       "A data.frame: 6 × 3\n",
       "\n",
       "| <!--/--> | batch &lt;fct&gt; | condition &lt;fct&gt; | barcode &lt;fct&gt; |\n",
       "|---|---|---|---|\n",
       "| MT:1:001 | 1 | MT | 1 |\n",
       "| MT:1:002 | 1 | MT | 2 |\n",
       "| MT:1:003 | 1 | MT | 3 |\n",
       "| MT:1:004 | 1 | MT | 4 |\n",
       "| MT:1:005 | 1 | MT | 5 |\n",
       "| MT:1:006 | 1 | MT | 6 |\n",
       "\n"
      ],
      "text/plain": [
       "         batch condition barcode\n",
       "MT:1:001 1     MT        1      \n",
       "MT:1:002 1     MT        2      \n",
       "MT:1:003 1     MT        3      \n",
       "MT:1:004 1     MT        4      \n",
       "MT:1:005 1     MT        5      \n",
       "MT:1:006 1     MT        6      "
      ]
     },
     "metadata": {},
     "output_type": "display_data"
    }
   ],
   "source": [
    "head(ce.colAnnot)"
   ]
  },
  {
   "cell_type": "code",
   "execution_count": 14,
   "id": "9e14f048-665c-43eb-a5cf-6ff7ad8bbf94",
   "metadata": {
    "tags": []
   },
   "outputs": [
    {
     "name": "stderr",
     "output_type": "stream",
     "text": [
      "Warning message in MpraObject(dnaCounts = ce.dnaCounts, rnaCounts = ce.rnaCounts, :\n",
      "“1 enhancers were removed from the analysis”\n"
     ]
    }
   ],
   "source": [
    "obj <- MpraObject(dnaCounts = ce.dnaCounts, \n",
    "                  rnaCounts = ce.rnaCounts, \n",
    "                  dnaAnnot = ce.colAnnot,\n",
    "                  rnaAnnot = ce.colAnnot, \n",
    "                  controls = ce.control)"
   ]
  },
  {
   "cell_type": "code",
   "execution_count": 27,
   "id": "5c19b544-0be4-4147-afae-849c7e9d3664",
   "metadata": {
    "tags": []
   },
   "outputs": [
    {
     "ename": "ERROR",
     "evalue": "Error in head(obj@ce.rnaCounts): no slot of name \"ce.rnaCounts\" for this object of class \"MpraObject\"\n",
     "output_type": "error",
     "traceback": [
      "Error in head(obj@ce.rnaCounts): no slot of name \"ce.rnaCounts\" for this object of class \"MpraObject\"\nTraceback:\n",
      "1. head(obj@ce.rnaCounts)"
     ]
    }
   ],
   "source": [
    "head(obj@ce.rnaCounts)"
   ]
  },
  {
   "cell_type": "code",
   "execution_count": null,
   "id": "4a1c05f0-9bbd-4ae5-aab3-3c2cecce9260",
   "metadata": {},
   "outputs": [],
   "source": [
    "SummarizedExperiment(assays=list(dnaCounts=obj@dnaCounts),\n",
    "                     rowRanges=rowRanges, colData=colData)"
   ]
  },
  {
   "cell_type": "code",
   "execution_count": null,
   "id": "915f1a7f-5fd9-46cf-9317-1e89a7f73982",
   "metadata": {},
   "outputs": [],
   "source": [
    "MPRAnalyze.to.SE <- function(MPRAnalyze_obj){\n",
    "    \n",
    "    \n",
    "    return(se)\n",
    "\n",
    "}"
   ]
  }
 ],
 "metadata": {
  "kernelspec": {
   "display_name": "R",
   "language": "R",
   "name": "ir"
  },
  "language_info": {
   "codemirror_mode": "r",
   "file_extension": ".r",
   "mimetype": "text/x-r-source",
   "name": "R",
   "pygments_lexer": "r",
   "version": "4.2.2"
  }
 },
 "nbformat": 4,
 "nbformat_minor": 5
}

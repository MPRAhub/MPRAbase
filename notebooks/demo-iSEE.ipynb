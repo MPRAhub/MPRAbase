{
 "cells": [
  {
   "cell_type": "code",
   "execution_count": null,
   "id": "811c7679-eb68-49d3-a248-8bae7c1b1bae",
   "metadata": {},
   "outputs": [],
   "source": [
    "library(iSEE)\n",
    "library(scRNAseq)\n",
    "library(scater)"
   ]
  },
  {
   "cell_type": "code",
   "execution_count": null,
   "id": "1b4f8347-df3a-4976-b872-bbc1d3da1f8b",
   "metadata": {},
   "outputs": [],
   "source": [
    "sce <- ReprocessedAllenData(assays = \"tophat_counts\")   # specifying the assays to speed up the example\n",
    "sce <- logNormCounts(sce, exprs_values=\"tophat_counts\")\n",
    "set.seed(1000)\n",
    "sce <- runPCA(sce)\n",
    "sce <- runTSNE(sce)\n",
    "rowData(sce)$mean_log <- rowMeans(logcounts(sce))\n",
    "rowData(sce)$var_log <- apply(logcounts(sce), 1, var)"
   ]
  },
  {
   "cell_type": "code",
   "execution_count": null,
   "id": "c7fcac8b-ccda-4155-871d-f19d0c5a6993",
   "metadata": {},
   "outputs": [],
   "source": [
    "app <- iSEE(sce)"
   ]
  },
  {
   "cell_type": "code",
   "execution_count": null,
   "id": "160d516a-ace3-4779-902d-bb1f1f071e0b",
   "metadata": {},
   "outputs": [],
   "source": [
    "shiny::runApp(app, port = 3838, host = \"0.0.0.0\")"
   ]
  }
 ],
 "metadata": {
  "kernelspec": {
   "display_name": "R",
   "language": "R",
   "name": "ir"
  },
  "language_info": {
   "codemirror_mode": "r",
   "file_extension": ".r",
   "mimetype": "text/x-r-source",
   "name": "R",
   "pygments_lexer": "r",
   "version": "4.2.2"
  }
 },
 "nbformat": 4,
 "nbformat_minor": 5
}
